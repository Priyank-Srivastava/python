{
 "cells": [
  {
   "cell_type": "code",
   "execution_count": 3,
   "metadata": {},
   "outputs": [
    {
     "name": "stdout",
     "output_type": "stream",
     "text": [
      "2\n",
      "3 1\n",
      "1\n",
      "3 4\n",
      "4\n"
     ]
    }
   ],
   "source": [
    "def prime(number):\n",
    "    count = 0\n",
    "    for i in range(2,number):\n",
    "        if number%i == 0:\n",
    "            count = 1\n",
    "            break\n",
    "    if count == 0:\n",
    "        return number\n",
    "    else:\n",
    "        return None\n",
    "for _ in range(int(input())):\n",
    "    x,y = (map(int,input().split()))\n",
    "    num = x+y\n",
    "    i = 1\n",
    "    while i>0:\n",
    "        num+=1\n",
    "        ret = prime(num)\n",
    "        if ret is not None:\n",
    "            break\n",
    "        i+=1\n",
    "    print(num-(x+y))"
   ]
  },
  {
   "cell_type": "code",
   "execution_count": null,
   "metadata": {},
   "outputs": [],
   "source": []
  }
 ],
 "metadata": {
  "kernelspec": {
   "display_name": "Python 3",
   "language": "python",
   "name": "python3"
  },
  "language_info": {
   "codemirror_mode": {
    "name": "ipython",
    "version": 3
   },
   "file_extension": ".py",
   "mimetype": "text/x-python",
   "name": "python",
   "nbconvert_exporter": "python",
   "pygments_lexer": "ipython3",
   "version": "3.7.6"
  }
 },
 "nbformat": 4,
 "nbformat_minor": 4
}
