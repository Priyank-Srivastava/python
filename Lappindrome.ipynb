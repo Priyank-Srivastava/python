{
 "cells": [
  {
   "cell_type": "code",
   "execution_count": 8,
   "metadata": {},
   "outputs": [
    {
     "name": "stdout",
     "output_type": "stream",
     "text": [
      "1\n",
      "cabdcba\n",
      "cab\n",
      "cba\n",
      "YES\n"
     ]
    }
   ],
   "source": [
    "t=int(input())\n",
    "for i in range(t):\n",
    "    s=input()\n",
    "    n=len(s)\n",
    "    if n % 2 == 0:\n",
    "        firstpart, secondpart = s[:n//2], s[n//2:]\n",
    "    else:\n",
    "        firstpart, secondpart = s[:n//2], s[n//2+1:]\n",
    "    check=0\n",
    "    v=set(firstpart)\n",
    "    print(firstpart)\n",
    "    print(secondpart)\n",
    "    for j in v:\n",
    "        if firstpart.count(j) == secondpart.count(j):\n",
    "            check=1\n",
    "        else:\n",
    "            check=0\n",
    "            break\n",
    "    if check == 1 :\n",
    "        print(\"YES\")\n",
    "    else:\n",
    "        print(\"NO\")"
   ]
  },
  {
   "cell_type": "code",
   "execution_count": null,
   "metadata": {},
   "outputs": [],
   "source": []
  }
 ],
 "metadata": {
  "kernelspec": {
   "display_name": "Python 3",
   "language": "python",
   "name": "python3"
  },
  "language_info": {
   "codemirror_mode": {
    "name": "ipython",
    "version": 3
   },
   "file_extension": ".py",
   "mimetype": "text/x-python",
   "name": "python",
   "nbconvert_exporter": "python",
   "pygments_lexer": "ipython3",
   "version": "3.7.6"
  }
 },
 "nbformat": 4,
 "nbformat_minor": 4
}
