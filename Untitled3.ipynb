{
 "cells": [
  {
   "cell_type": "code",
   "execution_count": 2,
   "metadata": {},
   "outputs": [
    {
     "name": "stdout",
     "output_type": "stream",
     "text": [
      "qwerty\n",
      "2\n",
      "qqtt\n",
      "Yes\n",
      "jkqe\n",
      "No\n"
     ]
    }
   ],
   "source": [
    "# cook your dish here\n",
    "try:\n",
    "    s = input()\n",
    "    for i in range(int(input())):\n",
    "        say = input()\n",
    "        for letter in say:\n",
    "            if letter not in s:\n",
    "                flag = 'No'\n",
    "                break\n",
    "            flag = 'Yes'\n",
    "        print(flag)\n",
    "except:\n",
    "    pass"
   ]
  },
  {
   "cell_type": "code",
   "execution_count": 4,
   "metadata": {},
   "outputs": [
    {
     "name": "stdout",
     "output_type": "stream",
     "text": [
      "1\n",
      "3\n",
      "1 1 2\n",
      "{1, 2}\n"
     ]
    }
   ],
   "source": [
    "try:\n",
    "    for _ in range(int(input())):\n",
    "        n = int(input())\n",
    "        l = list(map(int,input().split()))\n",
    "        s = set(l)\n",
    "        print(s)\n",
    "except:\n",
    "    pass"
   ]
  },
  {
   "cell_type": "code",
   "execution_count": 7,
   "metadata": {},
   "outputs": [
    {
     "name": "stdout",
     "output_type": "stream",
     "text": [
      "2 3\n",
      "2\n",
      "3\n"
     ]
    }
   ],
   "source": [
    "x,y=[int(x)for x in input().split()]\n",
    "print(x)\n",
    "print(y)"
   ]
  },
  {
   "cell_type": "code",
   "execution_count": null,
   "metadata": {},
   "outputs": [],
   "source": []
  }
 ],
 "metadata": {
  "kernelspec": {
   "display_name": "Python 3",
   "language": "python",
   "name": "python3"
  },
  "language_info": {
   "codemirror_mode": {
    "name": "ipython",
    "version": 3
   },
   "file_extension": ".py",
   "mimetype": "text/x-python",
   "name": "python",
   "nbconvert_exporter": "python",
   "pygments_lexer": "ipython3",
   "version": "3.7.6"
  }
 },
 "nbformat": 4,
 "nbformat_minor": 4
}
