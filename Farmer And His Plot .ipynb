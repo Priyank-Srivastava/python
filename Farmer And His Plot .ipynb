{
 "cells": [
  {
   "cell_type": "code",
   "execution_count": null,
   "metadata": {},
   "outputs": [],
   "source": [
    "def gcd(a,b):\n",
    "    if a==0: \n",
    "        return b\n",
    "    elif b==0:\n",
    "        return a\n",
    "    else:    \n",
    "        m = min(a,b)\n",
    "        j,temp = 1,1\n",
    "        while(j<=m):\n",
    "            if a%j==0 and b%j==0:\n",
    "                temp = j\n",
    "            j+=1\n",
    "        return temp\n",
    "for _ in range(int(input())):\n",
    "    l,b = map(int,input().split())\n",
    "    g = gcd(l,b)\n",
    "    print(int((l*b)/(g*g)))"
   ]
  }
 ],
 "metadata": {
  "kernelspec": {
   "display_name": "Python 3",
   "language": "python",
   "name": "python3"
  },
  "language_info": {
   "codemirror_mode": {
    "name": "ipython",
    "version": 3
   },
   "file_extension": ".py",
   "mimetype": "text/x-python",
   "name": "python",
   "nbconvert_exporter": "python",
   "pygments_lexer": "ipython3",
   "version": "3.7.6"
  }
 },
 "nbformat": 4,
 "nbformat_minor": 4
}
