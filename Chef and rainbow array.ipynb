{
 "cells": [
  {
   "cell_type": "code",
   "execution_count": 26,
   "metadata": {},
   "outputs": [
    {
     "name": "stdout",
     "output_type": "stream",
     "text": [
      "1\n",
      "19\n",
      "1 2 3 4 4 5 6 6 6 7 6 6 6 5 4 4 3 2 1\n",
      "[1, 2, 3, 4, 5, 6, 7]\n",
      "yes\n"
     ]
    }
   ],
   "source": [
    "try:\n",
    "    for _ in range(int(input())):\n",
    "        n = int(input())\n",
    "        l = list(map(int,input().split()))\n",
    "        a = list(set(l))\n",
    "        print(a)      \n",
    "        if a==[1, 2, 3, 4, 5, 6, 7] and l[0:n] == l[::-1]:\n",
    "            print('yes')\n",
    "        else:\n",
    "            print('no')\n",
    "except:\n",
    "    pass\n"
   ]
  }
 ],
 "metadata": {
  "kernelspec": {
   "display_name": "Python 3",
   "language": "python",
   "name": "python3"
  },
  "language_info": {
   "codemirror_mode": {
    "name": "ipython",
    "version": 3
   },
   "file_extension": ".py",
   "mimetype": "text/x-python",
   "name": "python",
   "nbconvert_exporter": "python",
   "pygments_lexer": "ipython3",
   "version": "3.7.6"
  }
 },
 "nbformat": 4,
 "nbformat_minor": 4
}
