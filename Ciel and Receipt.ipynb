{
 "cells": [
  {
   "cell_type": "code",
   "execution_count": 27,
   "metadata": {},
   "outputs": [
    {
     "name": "stdout",
     "output_type": "stream",
     "text": [
      "1\n",
      "4097\n",
      "3\n"
     ]
    }
   ],
   "source": [
    "import math\n",
    "try:\n",
    "    def to_binary(integer):\n",
    "        binary_list = []\n",
    "        quo = integer\n",
    "        count = 0\n",
    "        while quo!=0:\n",
    "            binary_list.append(quo%2)\n",
    "            quo = quo//2\n",
    "        for no in binary_list:\n",
    "            if no == 1:\n",
    "                count+=1\n",
    "        return count\n",
    "    def main():\n",
    "        tests = int(input())\n",
    "        for test in range (tests):\n",
    "            number = int(input())\n",
    "            if number>2048:\n",
    "                n = number//2048\n",
    "                remainder = number%2048\n",
    "                total = to_binary(remainder)\n",
    "                print(n+total)\n",
    "            else:\n",
    "                print(to_binary(number))\n",
    "    if __name__ == '__main__':\n",
    "        main()\n",
    "except:\n",
    "    pass"
   ]
  },
  {
   "cell_type": "code",
   "execution_count": 25,
   "metadata": {},
   "outputs": [
    {
     "data": {
      "text/plain": [
       "4"
      ]
     },
     "execution_count": 25,
     "metadata": {},
     "output_type": "execute_result"
    }
   ],
   "source": [
    "8192//2048"
   ]
  },
  {
   "cell_type": "code",
   "execution_count": 15,
   "metadata": {},
   "outputs": [
    {
     "name": "stdout",
     "output_type": "stream",
     "text": [
      "3\n"
     ]
    }
   ],
   "source": []
  },
  {
   "cell_type": "code",
   "execution_count": null,
   "metadata": {},
   "outputs": [],
   "source": []
  }
 ],
 "metadata": {
  "kernelspec": {
   "display_name": "Python 3",
   "language": "python",
   "name": "python3"
  },
  "language_info": {
   "codemirror_mode": {
    "name": "ipython",
    "version": 3
   },
   "file_extension": ".py",
   "mimetype": "text/x-python",
   "name": "python",
   "nbconvert_exporter": "python",
   "pygments_lexer": "ipython3",
   "version": "3.7.6"
  }
 },
 "nbformat": 4,
 "nbformat_minor": 4
}
