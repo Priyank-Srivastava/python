{
 "cells": [
  {
   "cell_type": "code",
   "execution_count": 3,
   "metadata": {},
   "outputs": [
    {
     "name": "stdout",
     "output_type": "stream",
     "text": [
      "2\n",
      "((a+b)*((b+(a+c))^(c+d)))\n",
      "ab+bac++cd+^*\n",
      "((a+b)*(z+x))\n",
      "ab+zx+*\n"
     ]
    }
   ],
   "source": [
    "try:\n",
    "    for _ in range(int(input())):\n",
    "        say = input()\n",
    "        result = ''\n",
    "        stck,l,opt_list = [],[],['+','-','*','/','^','%','(']\n",
    "        for i in range(len(say)):\n",
    "            l.append(say[i])\n",
    "        for i in l:\n",
    "            if i.isalpha():\n",
    "                result+=i\n",
    "            elif i in opt_list:\n",
    "                stck.append(i)\n",
    "            else:\n",
    "                while stck[-1]!= '(':\n",
    "                    result+=stck.pop(-1)\n",
    "                stck.pop(-1)\n",
    "        print(result)\n",
    "        \n",
    "except:\n",
    "    pass"
   ]
  },
  {
   "cell_type": "code",
   "execution_count": null,
   "metadata": {},
   "outputs": [],
   "source": []
  }
 ],
 "metadata": {
  "kernelspec": {
   "display_name": "Python 3",
   "language": "python",
   "name": "python3"
  },
  "language_info": {
   "codemirror_mode": {
    "name": "ipython",
    "version": 3
   },
   "file_extension": ".py",
   "mimetype": "text/x-python",
   "name": "python",
   "nbconvert_exporter": "python",
   "pygments_lexer": "ipython3",
   "version": "3.7.6"
  }
 },
 "nbformat": 4,
 "nbformat_minor": 4
}
