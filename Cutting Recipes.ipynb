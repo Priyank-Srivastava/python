{
 "cells": [
  {
   "cell_type": "code",
   "execution_count": 2,
   "metadata": {},
   "outputs": [
    {
     "name": "stdout",
     "output_type": "stream",
     "text": [
      "1\n",
      "4 20 15 10 5\n",
      "4 3 2 1 "
     ]
    }
   ],
   "source": [
    "try:\n",
    "    tests = int(input())\n",
    "    for test in range (tests):\n",
    "        l = list(map(int,input().split()))\n",
    "        minimum = min(l)\n",
    "        j = 2\n",
    "        while j<=minimum+1:\n",
    "            count = 0\n",
    "            for num in range(1,len(l)):\n",
    "                if l[num]%j==0:\n",
    "                    count+=1\n",
    "                else:\n",
    "                    j+=1\n",
    "            #print(count)\n",
    "            if count == l[0]:\n",
    "                for i in range(1,len(l)):\n",
    "                    l[i]//=j\n",
    "        for i in range(1,len(l)):\n",
    "            print(l[i],end= ' ')\n",
    "        \n",
    "except:\n",
    "    pass"
   ]
  },
  {
   "cell_type": "code",
   "execution_count": null,
   "metadata": {},
   "outputs": [],
   "source": []
  }
 ],
 "metadata": {
  "kernelspec": {
   "display_name": "Python 3",
   "language": "python",
   "name": "python3"
  },
  "language_info": {
   "codemirror_mode": {
    "name": "ipython",
    "version": 3
   },
   "file_extension": ".py",
   "mimetype": "text/x-python",
   "name": "python",
   "nbconvert_exporter": "python",
   "pygments_lexer": "ipython3",
   "version": "3.7.6"
  }
 },
 "nbformat": 4,
 "nbformat_minor": 4
}
