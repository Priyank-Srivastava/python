{
 "cells": [
  {
   "cell_type": "code",
   "execution_count": 3,
   "metadata": {},
   "outputs": [
    {
     "name": "stdout",
     "output_type": "stream",
     "text": [
      "10\n",
      "3 2\n",
      "Bob\n",
      "4 2\n",
      "Limak\n",
      "1 1\n",
      "Limak\n",
      "1 2\n",
      "Bob\n",
      "1 3\n",
      "Bob\n",
      "9 3\n",
      "Limak\n",
      "9 11\n",
      "Limak\n",
      "9 12\n",
      "Bob\n",
      "9 1000\n",
      "Bob\n",
      "8 11\n",
      "Bob\n"
     ]
    }
   ],
   "source": [
    "try:\n",
    "    for _ in range(int(input())):\n",
    "        a = list(map(int,input().split()))\n",
    "        k,count = 1,0\n",
    "        result = False\n",
    "        while True:\n",
    "            for i in range(2):\n",
    "                if a[i]>=k:\n",
    "                    a[i]-=k\n",
    "                    result = not(result)\n",
    "                    k+=1\n",
    "                else:\n",
    "                    count = 1\n",
    "                    break\n",
    "            if count == 1:\n",
    "                break\n",
    "        if result == True:\n",
    "            print('Limak')\n",
    "        else:\n",
    "            print('Bob')\n",
    "except:\n",
    "    pass"
   ]
  },
  {
   "cell_type": "code",
   "execution_count": 10,
   "metadata": {},
   "outputs": [
    {
     "name": "stdout",
     "output_type": "stream",
     "text": [
      "3\n"
     ]
    }
   ],
   "source": [
    "x = 1^2\n",
    "print(x)"
   ]
  },
  {
   "cell_type": "code",
   "execution_count": 11,
   "metadata": {},
   "outputs": [
    {
     "name": "stdout",
     "output_type": "stream",
     "text": [
      "0\n"
     ]
    }
   ],
   "source": [
    "x = x^3\n",
    "print(x)"
   ]
  },
  {
   "cell_type": "code",
   "execution_count": 12,
   "metadata": {},
   "outputs": [
    {
     "name": "stdout",
     "output_type": "stream",
     "text": [
      "4\n"
     ]
    }
   ],
   "source": [
    "x^=4\n",
    "print(x)"
   ]
  },
  {
   "cell_type": "code",
   "execution_count": null,
   "metadata": {},
   "outputs": [
    {
     "name": "stdout",
     "output_type": "stream",
     "text": [
      "2\n"
     ]
    }
   ],
   "source": [
    "try:\n",
    "    for _ in range(int(input())):\n",
    "        n = int(input())\n",
    "        for i in range(n):\n",
    "            x,y = input().split()\n",
    "        x = 1\n",
    "        for i in range(2,n+1):\n",
    "            x ^=i \n",
    "            print(x)\n",
    "except:\n",
    "    pass"
   ]
  },
  {
   "cell_type": "code",
   "execution_count": 14,
   "metadata": {},
   "outputs": [
    {
     "name": "stdout",
     "output_type": "stream",
     "text": [
      "1\n",
      "2\n",
      "1 2\n",
      "0 0\n",
      "3\n"
     ]
    }
   ],
   "source": [
    "for _ in range(int(input())):\n",
    "    n = int(input())\n",
    "    for i in range(n):\n",
    "        a,b = map(int,input().split())\n",
    "    x = 1\n",
    "    for i in range(2,n+1):\n",
    "        x = x^i\n",
    "    print(x)"
   ]
  },
  {
   "cell_type": "code",
   "execution_count": null,
   "metadata": {},
   "outputs": [],
   "source": []
  }
 ],
 "metadata": {
  "kernelspec": {
   "display_name": "Python 3",
   "language": "python",
   "name": "python3"
  },
  "language_info": {
   "codemirror_mode": {
    "name": "ipython",
    "version": 3
   },
   "file_extension": ".py",
   "mimetype": "text/x-python",
   "name": "python",
   "nbconvert_exporter": "python",
   "pygments_lexer": "ipython3",
   "version": "3.7.6"
  }
 },
 "nbformat": 4,
 "nbformat_minor": 4
}
