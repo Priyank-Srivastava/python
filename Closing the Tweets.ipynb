{
 "cells": [
  {
   "cell_type": "code",
   "execution_count": 9,
   "metadata": {},
   "outputs": [
    {
     "name": "stdout",
     "output_type": "stream",
     "text": [
      "3 6\n",
      "CLICK 1\n",
      "1\n",
      "CLICK 2\n",
      "2\n",
      "CLICK 3\n",
      "3\n",
      "CLICK 2\n",
      "2\n",
      "CLOSEALL\n",
      "0\n",
      "CLICK 1\n",
      "1\n"
     ]
    }
   ],
   "source": [
    "n,k = map(int,input().split())\n",
    "lists = [False]*n\n",
    "for i in range(0,k):\n",
    "    event = input()\n",
    "    c = event.split()\n",
    "    #c.upper()\n",
    "    #num = int(num)\n",
    "    if c[0] == 'CLICK':\n",
    "        num = int(c[1])\n",
    "        lists[num-1] = not(lists[num-1])\n",
    "        print(lists.count(True))\n",
    "    elif c[0] == 'CLOSEALL':\n",
    "        lists = [False]*n\n",
    "        print(lists.count(True))"
   ]
  },
  {
   "cell_type": "code",
   "execution_count": null,
   "metadata": {},
   "outputs": [],
   "source": []
  }
 ],
 "metadata": {
  "kernelspec": {
   "display_name": "Python 3",
   "language": "python",
   "name": "python3"
  },
  "language_info": {
   "codemirror_mode": {
    "name": "ipython",
    "version": 3
   },
   "file_extension": ".py",
   "mimetype": "text/x-python",
   "name": "python",
   "nbconvert_exporter": "python",
   "pygments_lexer": "ipython3",
   "version": "3.7.6"
  }
 },
 "nbformat": 4,
 "nbformat_minor": 4
}
