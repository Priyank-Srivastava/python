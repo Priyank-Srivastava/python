{
 "cells": [
  {
   "cell_type": "code",
   "execution_count": 8,
   "metadata": {},
   "outputs": [
    {
     "name": "stdout",
     "output_type": "stream",
     "text": [
      "119.50 120.00\n",
      "120.00\n"
     ]
    }
   ],
   "source": [
    "try:\n",
    "    number = list(map(float,input().split()))\n",
    "    #print(number)\n",
    "    if number[0]%5 != 0:\n",
    "        print('%.2f'%number[1])\n",
    "    else:\n",
    "        if (number[0]+0.50)<=number[1]:\n",
    "            number[1]-=(number[0]+0.50)\n",
    "            print('%.2f'%number[1])\n",
    "        else:\n",
    "            print('%.2f'%number[1])\n",
    "except:\n",
    "    pass"
   ]
  },
  {
   "cell_type": "code",
   "execution_count": 5,
   "metadata": {},
   "outputs": [
    {
     "name": "stdout",
     "output_type": "stream",
     "text": [
      "2\n",
      "39\n",
      "no\n",
      "37\n",
      "yes\n"
     ]
    }
   ],
   "source": [
    "try:\n",
    "    tests = int(input())\n",
    "    for test in range(tests):\n",
    "        count = 0\n",
    "        number = int(input())\n",
    "        if number!=1:\n",
    "            for i in range(1,number+1):\n",
    "                if number%i == 0:\n",
    "                    count+=1\n",
    "                if count>2:\n",
    "                    break\n",
    "            if count>2:\n",
    "                print('no')\n",
    "            else:\n",
    "                print('yes')\n",
    "        else:\n",
    "            print('no')\n",
    "except:\n",
    "    pass"
   ]
  },
  {
   "cell_type": "code",
   "execution_count": 6,
   "metadata": {},
   "outputs": [
    {
     "name": "stdout",
     "output_type": "stream",
     "text": [
      "2\n",
      "3 2\n",
      "4 5 7\n",
      "7\n",
      "3 8\n",
      "4 5 7\n",
      "0\n"
     ]
    }
   ],
   "source": [
    "try:\n",
    "    tests = int(input())\n",
    "    for test in range(tests):\n",
    "        type_candies,k_candies = map(int,input().split())\n",
    "        present_candies = list(map(int,input().split()))\n",
    "        count = 0\n",
    "        for candy in present_candies:\n",
    "            number_child = candy//k_candies\n",
    "            count += number_child\n",
    "        print(count)\n",
    "except:\n",
    "    pass\n",
    "        "
   ]
  },
  {
   "cell_type": "code",
   "execution_count": null,
   "metadata": {},
   "outputs": [],
   "source": []
  }
 ],
 "metadata": {
  "kernelspec": {
   "display_name": "Python 3",
   "language": "python",
   "name": "python3"
  },
  "language_info": {
   "codemirror_mode": {
    "name": "ipython",
    "version": 3
   },
   "file_extension": ".py",
   "mimetype": "text/x-python",
   "name": "python",
   "nbconvert_exporter": "python",
   "pygments_lexer": "ipython3",
   "version": "3.7.6"
  }
 },
 "nbformat": 4,
 "nbformat_minor": 4
}
