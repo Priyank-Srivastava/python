{
 "cells": [
  {
   "cell_type": "code",
   "execution_count": null,
   "metadata": {},
   "outputs": [],
   "source": [
    "try:\n",
    "    for _ in range(int(input())):\n",
    "        hardness,carbon,tensile = map(float,input().split())\n",
    "        if hardness>50 and carbon<0.7 and tensile>5600:\n",
    "            pts = 10\n",
    "        elif hardness>50 and carbon<0.7:\n",
    "            pts = 9\n",
    "        elif carbon<0.7 and tensile>5600:\n",
    "            pts = 8\n",
    "        elif hardness>50 and tensile>5600:\n",
    "            pts = 7\n",
    "        elif hardness>50 or carbon<0.7 or tensile>5600:\n",
    "            pts = 6\n",
    "        else:\n",
    "            pts = 5\n",
    "        print(pts)\n",
    "    \n",
    "except:\n",
    "    pass"
   ]
  }
 ],
 "metadata": {
  "kernelspec": {
   "display_name": "Python 3",
   "language": "python",
   "name": "python3"
  },
  "language_info": {
   "codemirror_mode": {
    "name": "ipython",
    "version": 3
   },
   "file_extension": ".py",
   "mimetype": "text/x-python",
   "name": "python",
   "nbconvert_exporter": "python",
   "pygments_lexer": "ipython3",
   "version": "3.7.6"
  }
 },
 "nbformat": 4,
 "nbformat_minor": 4
}
