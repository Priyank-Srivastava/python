{
 "cells": [
  {
   "cell_type": "code",
   "execution_count": 2,
   "metadata": {},
   "outputs": [
    {
     "name": "stdout",
     "output_type": "stream",
     "text": [
      "2\n",
      "s?or?\n",
      "sco??\n",
      "Yes\n",
      "stor?\n",
      "sco??\n",
      "No\n"
     ]
    }
   ],
   "source": [
    "for _ in range(int(input())):\n",
    "    s1 = input()\n",
    "    s2 = input()\n",
    "    count = 0\n",
    "    for i in range(len(s1)):\n",
    "        if s1[i]!=s2[i] and s1[i]!='?' and s2[i]!='?':\n",
    "            count = 1\n",
    "            break\n",
    "    if count == 1:\n",
    "        print('No')\n",
    "    else:\n",
    "        print('Yes')"
   ]
  },
  {
   "cell_type": "code",
   "execution_count": null,
   "metadata": {},
   "outputs": [],
   "source": []
  }
 ],
 "metadata": {
  "kernelspec": {
   "display_name": "Python 3",
   "language": "python",
   "name": "python3"
  },
  "language_info": {
   "codemirror_mode": {
    "name": "ipython",
    "version": 3
   },
   "file_extension": ".py",
   "mimetype": "text/x-python",
   "name": "python",
   "nbconvert_exporter": "python",
   "pygments_lexer": "ipython3",
   "version": "3.7.6"
  }
 },
 "nbformat": 4,
 "nbformat_minor": 4
}
