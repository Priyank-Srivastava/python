{
 "cells": [
  {
   "cell_type": "code",
   "execution_count": 2,
   "metadata": {},
   "outputs": [
    {
     "name": "stdout",
     "output_type": "stream",
     "text": [
      "1\n",
      "2 3\n",
      "eegf ppqc\n",
      "abcd jklp rte\n",
      "ghi plo fds\n",
      "iop ghy iii\n",
      "['abcd', 'jklp', 'rte', 'ghi', 'plo', 'fds', 'iop', 'ghy', 'iii']\n"
     ]
    }
   ],
   "source": [
    "for _ in range(int(input())):\n",
    "    n,k = map(int,input().split())\n",
    "    dic = list(input().split())\n",
    "    phrase = []\n",
    "    while k!=0:\n",
    "        phrase.extend(input().split())\n",
    "        k-=1\n",
    "    for word in dic:\n",
    "        if word in phrase:\n",
    "            print('YES',end = ' ')\n",
    "        else:\n",
    "            print('NO',end = ' ')"
   ]
  },
  {
   "cell_type": "code",
   "execution_count": 4,
   "metadata": {},
   "outputs": [
    {
     "name": "stdout",
     "output_type": "stream",
     "text": [
      "2\n",
      "2\n",
      "1\n",
      "1\n"
     ]
    }
   ],
   "source": [
    "say = 'aanm'\n",
    "for ch in say:\n",
    "    \n",
    "    print(say.count(ch))"
   ]
  },
  {
   "cell_type": "code",
   "execution_count": 5,
   "metadata": {},
   "outputs": [
    {
     "name": "stdout",
     "output_type": "stream",
     "text": [
      "2\n",
      "3\n",
      "1\n",
      "2\n",
      "1\n",
      "2\n",
      "5\n",
      "1\n",
      "1\n",
      "2\n",
      "3\n",
      "2\n",
      "3\n"
     ]
    }
   ],
   "source": [
    "try:\n",
    "    for _ in range(int(input())):\n",
    "        n = int(input())\n",
    "        l = []\n",
    "        count = 0\n",
    "        while n!=0:\n",
    "            l.extend(input())\n",
    "            n-=1\n",
    "        for num in l:\n",
    "            if int(num)%2!=0:\n",
    "                count+=1\n",
    "        print(count)\n",
    "except:pass"
   ]
  },
  {
   "cell_type": "code",
   "execution_count": 14,
   "metadata": {},
   "outputs": [
    {
     "name": "stdout",
     "output_type": "stream",
     "text": [
      "2\n",
      "15 6\n",
      "10\n",
      "3 3\n",
      "1\n"
     ]
    }
   ],
   "source": [
    "def gcd(a,b):\n",
    "    if a==0: \n",
    "        return b\n",
    "    elif b==0:\n",
    "        return a\n",
    "    else:    \n",
    "        m = min(a,b)\n",
    "        j,temp = 1,1\n",
    "        while(j<=m):\n",
    "            if a%j==0 and b%j==0:\n",
    "                temp = j\n",
    "            j+=1\n",
    "        return temp\n",
    "for _ in range(int(input())):\n",
    "    l,b = map(int,input().split())\n",
    "    g = gcd(l,b)\n",
    "    print(int((l*b)/(g*g)))"
   ]
  },
  {
   "cell_type": "code",
   "execution_count": 9,
   "metadata": {},
   "outputs": [
    {
     "name": "stdout",
     "output_type": "stream",
     "text": [
      "3\n"
     ]
    }
   ],
   "source": [
    "def gcd(a,b):\n",
    "    if b==0:\n",
    "        return a\n",
    "    return gcd(b,a%b)\n"
   ]
  },
  {
   "cell_type": "code",
   "execution_count": null,
   "metadata": {},
   "outputs": [],
   "source": []
  }
 ],
 "metadata": {
  "kernelspec": {
   "display_name": "Python 3",
   "language": "python",
   "name": "python3"
  },
  "language_info": {
   "codemirror_mode": {
    "name": "ipython",
    "version": 3
   },
   "file_extension": ".py",
   "mimetype": "text/x-python",
   "name": "python",
   "nbconvert_exporter": "python",
   "pygments_lexer": "ipython3",
   "version": "3.7.6"
  }
 },
 "nbformat": 4,
 "nbformat_minor": 4
}
