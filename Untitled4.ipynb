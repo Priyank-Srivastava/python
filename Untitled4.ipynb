{
 "cells": [
  {
   "cell_type": "code",
   "execution_count": 3,
   "metadata": {},
   "outputs": [
    {
     "name": "stdout",
     "output_type": "stream",
     "text": [
      "1\n",
      "4\n",
      "2 1 4 1\n",
      "2 4 1 4\n",
      "2\n"
     ]
    }
   ],
   "source": [
    "try:\n",
    "    for _ in range(int(input())):\n",
    "        n = int(input())\n",
    "        L = list(map(int,input().split()))\n",
    "        R = list(map(int,input().split()))\n",
    "        Max,i = 1,1\n",
    "        for l,r in zip(L,R):\n",
    "            if l*r > Max:\n",
    "                Max = l*r\n",
    "                index = i\n",
    "            elif l*r == Max:\n",
    "                if R[index-1] < R[i-1]:\n",
    "                    index = i\n",
    "            i+=1\n",
    "        print(index)\n",
    "except:\n",
    "    pass"
   ]
  },
  {
   "cell_type": "code",
   "execution_count": 6,
   "metadata": {},
   "outputs": [
    {
     "name": "stdout",
     "output_type": "stream",
     "text": [
      "3\n",
      "1 2 1\n",
      "1\n",
      "3 2 3\n",
      "3\n",
      "3 7 2\n",
      "2\n"
     ]
    }
   ],
   "source": [
    "try:\n",
    "    for _ in range (int(input())):\n",
    "        a,b,n = map(int,input().split())\n",
    "        c,l = 0,[a,b]\n",
    "        for i in range(n):\n",
    "            if c==0:\n",
    "                l[c]*=2\n",
    "                c=1\n",
    "            elif c==1:\n",
    "                l[c]*=2\n",
    "                c=0\n",
    "        print(int(max(l[0],l[1])/min(l[0],l[1])))\n",
    "except:\n",
    "    pass"
   ]
  },
  {
   "cell_type": "code",
   "execution_count": null,
   "metadata": {},
   "outputs": [],
   "source": []
  }
 ],
 "metadata": {
  "kernelspec": {
   "display_name": "Python 3",
   "language": "python",
   "name": "python3"
  },
  "language_info": {
   "codemirror_mode": {
    "name": "ipython",
    "version": 3
   },
   "file_extension": ".py",
   "mimetype": "text/x-python",
   "name": "python",
   "nbconvert_exporter": "python",
   "pygments_lexer": "ipython3",
   "version": "3.7.6"
  }
 },
 "nbformat": 4,
 "nbformat_minor": 4
}
