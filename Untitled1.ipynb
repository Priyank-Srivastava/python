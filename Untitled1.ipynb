{
 "cells": [
  {
   "cell_type": "code",
   "execution_count": null,
   "metadata": {},
   "outputs": [],
   "source": [
    "def to_binary(integer):\n",
    "    binary_list = []\n",
    "    correct = []\n",
    "    quo = integer\n",
    "    while quo!= 0:\n",
    "        remaider = quo%2\n",
    "        quo = quo//2\n",
    "        binary_list.append(remaider)\n",
    "    for i in range(len(binary_list)):\n",
    "        correct.append(binary_list[-1-i])\n",
    "    return \"\".join(correct)   \n",
    "def to_integer(binary):\n",
    "    i = 0\n",
    "    count = 0\n",
    "    for j in range(len(binary)):\n",
    "        product = (2**i)*binary[-1-j]\n",
    "        count+=product\n",
    "        i+=1\n",
    "    return count\n",
    "for _ in range(int(input())):\n",
    "    sum_list = []\n",
    "    inte = input()\n",
    "    number = list(map(int,input().split()))\n",
    "    for j in range(len(number)-1):\n",
    "        for i in range(j,len(number)):\n",
    "\n",
    "            int_a = to_binary(number[j])\n",
    "            int_b = to_binary(number[i])\n",
    "            x_y = int_a.copy()\n",
    "            y_x = int_b.copy()\n",
    "            x_y.extend(int_b)\n",
    "            y_x.extend(int_a)\n",
    "            temp_a = to_integer(x_y)\n",
    "            temp_b = (to_integer(y_x))\n",
    "            sum_list.append(temp_a-temp_b)\n",
    "    print(max(sum_list))"
   ]
  },
  {
   "cell_type": "code",
   "execution_count": 20,
   "metadata": {},
   "outputs": [
    {
     "name": "stdout",
     "output_type": "stream",
     "text": [
      "1\n",
      "502\n",
      "1 2 4 8 16 64 128\n",
      "127\n"
     ]
    }
   ],
   "source": [
    "for _ in range(int(input())):\n",
    "    sum_list = []\n",
    "    lists = []\n",
    "    inte = int(input())\n",
    "    number = list(map(int,input().split()))\n",
    "    for num in number:\n",
    "        lists.append('{0:b}'.format(num))\n",
    "    #print(lists)\n",
    "    if inte<=500:\n",
    "        for j in range(len(lists)-1):\n",
    "            int_a = lists[j]\n",
    "            for i in range(j+1,len(lists)):\n",
    "                int_b = lists[i]\n",
    "                x_y = int_a + int_b\n",
    "                y_x = int_b + int_a\n",
    "                #temp_a = to_integer(x_y)\n",
    "                #temp_b = (to_integer(y_x))\n",
    "                temp_a = int(x_y,2)\n",
    "                temp_b = int(y_x,2)\n",
    "                sum_list.append(abs(temp_a-temp_b))\n",
    "                print(max(sum_list))\n",
    "    #print(sum_list)\n",
    "    else:\n",
    "        a = max(number)\n",
    "        a = '{0:b}'.format(a)\n",
    "        for i in range(len(number)):\n",
    "            x_y = a+lists[i]\n",
    "            y_x = lists[i]+a\n",
    "            sum_list.append(abs(int(x_y,2)-int(y_x,2)))\n",
    "        \n",
    "        print(max(sum_list))\n",
    "    "
   ]
  },
  {
   "cell_type": "code",
   "execution_count": 13,
   "metadata": {},
   "outputs": [
    {
     "name": "stdout",
     "output_type": "stream",
     "text": [
      "1\n",
      "5 3\n",
      "12 13 18 20 27216\n",
      "10101\n"
     ]
    }
   ],
   "source": [
    "for _ in range(int(input())):\n",
    "    say = ''\n",
    "    n,k = map(int,input().split())\n",
    "    distance = list(map(int,input().split()))\n",
    "    for dis in distance:\n",
    "        if dis%k == 0:\n",
    "            say+='1'\n",
    "        else:\n",
    "            say+='0'\n",
    "    print(say)"
   ]
  },
  {
   "cell_type": "code",
   "execution_count": 37,
   "metadata": {},
   "outputs": [
    {
     "name": "stdout",
     "output_type": "stream",
     "text": [
      "1\n",
      "5 5 5 7\n",
      "[[5, 2, 5, 2, 5], [2, 5, 2, 5, 2], [5, 2, 5, 2, 5], [2, 5, 2, 5, 2], [5, 2, 5, 2, 5]]\n",
      "89\n"
     ]
    }
   ],
   "source": [
    "for _ in range(int(input())):\n",
    "    row,col,max_candy,sum_candy = map(int,input().split())\n",
    "    mat = []\n",
    "    for r in range(row):\n",
    "        cl = []\n",
    "        for c in range(col):\n",
    "            \n",
    "            cl.append(max_candy)\n",
    "            max_candy = sum_candy-max_candy\n",
    "        if col%2 == 0:\n",
    "            max_candy = sum_candy-max_candy\n",
    "        mat.append(cl)\n",
    "    print(mat)\n",
    "    count = 0\n",
    "    for r in range(row):\n",
    "        for c in range(col):\n",
    "            count+=mat[r][c]\n",
    "    print(count)"
   ]
  },
  {
   "cell_type": "code",
   "execution_count": 13,
   "metadata": {},
   "outputs": [
    {
     "name": "stdout",
     "output_type": "stream",
     "text": [
      "11\n",
      "3\n"
     ]
    }
   ],
   "source": [
    "print('{0:b}'.format(3))\n",
    "print(int('11',2))"
   ]
  },
  {
   "cell_type": "code",
   "execution_count": null,
   "metadata": {},
   "outputs": [],
   "source": [
    "# cook your dish here\n",
    "def to_binary(integer):\n",
    "    binary_list = []\n",
    "    correct = []\n",
    "    quo = integer\n",
    "    while quo!= 0:\n",
    "        remaider = quo%2\n",
    "        quo = quo//2\n",
    "        binary_list.append(remaider)\n",
    "    for i in range(len(binary_list)):\n",
    "        correct.append(str(binary_list[-1-i]))\n",
    "    return \"\".join(correct) \n",
    "\n",
    "def to_integer(binary):\n",
    "    i = 0\n",
    "    count = 0\n",
    "    for j in range(len(binary)):\n",
    "        product = (2**i)*int(binary[-1-j])\n",
    "        count+=product\n",
    "        i+=1\n",
    "    return count\n",
    "for _ in range(int(input())):\n",
    "    sum_list = []\n",
    "    lists = []\n",
    "    inte = input()\n",
    "    number = list(input().split())\n",
    "    for num in number:\n",
    "        lists.append(to_binary(int(num)))\n",
    "    #print(lists)\n",
    "    for j in range(len(lists)-1):\n",
    "        int_a = lists[j]\n",
    "        for i in range(j+1,len(lists)):\n",
    "            int_b = lists[i]\n",
    "            #int_a = to_binary(int(number[j]))\n",
    "            #int_b = to_binary(int(number[i]))\n",
    "            x_y = int_a + int_b\n",
    "            y_x = int_b + int_a\n",
    "            #print(x_y)\n",
    "            #print(y_x)\n",
    "            temp_a = to_integer(x_y)\n",
    "            temp_b = (to_integer(y_x))\n",
    "            sum_list.append(abs(temp_a-temp_b))\n",
    "    #print(sum_list)\n",
    "    print(max(sum_list))\n",
    "    "
   ]
  },
  {
   "cell_type": "code",
   "execution_count": 26,
   "metadata": {},
   "outputs": [
    {
     "name": "stdout",
     "output_type": "stream",
     "text": [
      "(1, 4)\n",
      "(2, 5)\n",
      "(3, 6)\n"
     ]
    }
   ],
   "source": [
    "s1 = 'abc'\n",
    "s2 = 'xyz'\n",
    "s3 = 'mno'\n",
    "l1 = [1,2,3]\n",
    "l2 = [4,5,6]\n",
    "#print(zip(s1,s2))\n",
    "for ch1 in zip(l1,l2):\n",
    "    print(ch1)"
   ]
  },
  {
   "cell_type": "code",
   "execution_count": 27,
   "metadata": {},
   "outputs": [
    {
     "name": "stdout",
     "output_type": "stream",
     "text": [
      "3\n",
      "3 4 1\n",
      "0\n",
      "5 2 1\n",
      "2\n",
      "3 4 3\n",
      "0\n"
     ]
    }
   ],
   "source": [
    "for _ in range(int(input())):\n",
    "    n,m,k = map(int,input().split())\n",
    "    for i in range(1,k+1):\n",
    "        if n<m:\n",
    "            n+=1\n",
    "        elif m<n:\n",
    "            m+=1\n",
    "        else:\n",
    "            break\n",
    "    print(abs(n-m))"
   ]
  },
  {
   "cell_type": "code",
   "execution_count": 29,
   "metadata": {},
   "outputs": [
    {
     "name": "stdout",
     "output_type": "stream",
     "text": [
      "[False, False, False]\n"
     ]
    }
   ],
   "source": [
    "lists = []\n",
    "for i in range(3):\n",
    "    lists.append(not(True))\n",
    "print(lists)"
   ]
  },
  {
   "cell_type": "code",
   "execution_count": 43,
   "metadata": {},
   "outputs": [
    {
     "name": "stdout",
     "output_type": "stream",
     "text": [
      "[False, False, False, False]\n",
      "[False, True, False, False]\n",
      "1\n",
      "[False, False, False, False]\n"
     ]
    }
   ],
   "source": [
    "lists = [False]*4\n",
    "#lists*=3\n",
    "print(lists)\n",
    "lists[1] = not(lists[1])\n",
    "print(lists)\n",
    "print(lists.count(True))\n",
    "for aa in range(4):\n",
    "    lists[aa] = False\n",
    "print(lists)"
   ]
  },
  {
   "cell_type": "code",
   "execution_count": 37,
   "metadata": {},
   "outputs": [
    {
     "name": "stdout",
     "output_type": "stream",
     "text": [
      "m 2\n",
      "<class 'str'>\n",
      "<class 'int'>\n",
      "k 5\n",
      "<class 'str'>\n",
      "<class 'int'>\n"
     ]
    }
   ],
   "source": [
    "for i in range(2):\n",
    "    c,num = input().split()\n",
    "    print(type(num))\n",
    "    num = int(num)\n",
    "    #print(c)\n",
    "    print(type(num))"
   ]
  },
  {
   "cell_type": "code",
   "execution_count": null,
   "metadata": {},
   "outputs": [],
   "source": []
  }
 ],
 "metadata": {
  "kernelspec": {
   "display_name": "Python 3",
   "language": "python",
   "name": "python3"
  },
  "language_info": {
   "codemirror_mode": {
    "name": "ipython",
    "version": 3
   },
   "file_extension": ".py",
   "mimetype": "text/x-python",
   "name": "python",
   "nbconvert_exporter": "python",
   "pygments_lexer": "ipython3",
   "version": "3.7.6"
  }
 },
 "nbformat": 4,
 "nbformat_minor": 4
}
