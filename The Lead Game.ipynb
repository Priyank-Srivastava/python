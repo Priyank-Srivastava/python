{
 "cells": [
  {
   "cell_type": "code",
   "execution_count": 2,
   "metadata": {},
   "outputs": [
    {
     "name": "stdout",
     "output_type": "stream",
     "text": [
      "5\n",
      "140 82\n",
      "89 134\n",
      "90 110\n",
      "112 106\n",
      "88 90\n",
      "1 58\n"
     ]
    }
   ],
   "source": [
    "try:\n",
    "    rounds = int(input())\n",
    "    player1 = 0\n",
    "    player2 = 0\n",
    "    lead = 0\n",
    "    for _round in range(rounds):\n",
    "        score1,score2 = map(int,input().split())\n",
    "        player1+=score1\n",
    "        player2+=score2\n",
    "        if player1>player2:\n",
    "            if lead<(player1-player2):\n",
    "                W = 1\n",
    "                lead = player1-player2\n",
    "        else:\n",
    "            if lead<(player2-player1):\n",
    "                W = 2\n",
    "                lead = player2-player1\n",
    "    print(W,lead)\n",
    "            \n",
    "except:\n",
    "    pass"
   ]
  },
  {
   "cell_type": "code",
   "execution_count": null,
   "metadata": {},
   "outputs": [],
   "source": []
  }
 ],
 "metadata": {
  "kernelspec": {
   "display_name": "Python 3",
   "language": "python",
   "name": "python3"
  },
  "language_info": {
   "codemirror_mode": {
    "name": "ipython",
    "version": 3
   },
   "file_extension": ".py",
   "mimetype": "text/x-python",
   "name": "python",
   "nbconvert_exporter": "python",
   "pygments_lexer": "ipython3",
   "version": "3.7.6"
  }
 },
 "nbformat": 4,
 "nbformat_minor": 4
}
