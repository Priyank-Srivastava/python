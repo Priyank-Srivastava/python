{
 "cells": [
  {
   "cell_type": "code",
   "execution_count": 18,
   "metadata": {},
   "outputs": [
    {
     "name": "stdout",
     "output_type": "stream",
     "text": [
      "1\n",
      "2\n",
      "3\n",
      "[0, 1, 2, 3, 4, 5, 6]\n"
     ]
    }
   ],
   "source": [
    "il = []\n",
    "def binary(num,l,start,end):\n",
    "    mid = (start+end)//2\n",
    "    if num == l[mid]:\n",
    "        index = mid\n",
    "            \n",
    "    elif num > l[mid]:\n",
    "        end = mid-1\n",
    "        return binary(num,l,start,end)\n",
    "    elif num < l[mid]:\n",
    "        start = mid+1\n",
    "        return binary(num,l,start,end)\n",
    "    return index\n",
    "a = [3,3,3,3,3,3,3]\n",
    "num,i = 3,1\n",
    "index = binary(num,a,0,len(a)-1)\n",
    "il.append(index)\n",
    "while index-i>=0 and index+i<len(a):\n",
    "    if a[index+i] == num:\n",
    "        il.append(index+i)\n",
    "    if a[index-i] == num:\n",
    "        il.append(index-i)\n",
    "    if a[index+i] != num and a[index-i] != num:\n",
    "        il.sort()\n",
    "        break\n",
    "    i+=1\n",
    "il.sort()\n"
   ]
  },
  {
   "cell_type": "code",
   "execution_count": 4,
   "metadata": {},
   "outputs": [
    {
     "name": "stdout",
     "output_type": "stream",
     "text": [
      "4\n"
     ]
    }
   ],
   "source": [
    "a = [9,8,3,3,3,3,3]\n",
    "#a= a[3:6]\n",
    "print(a.index(3))"
   ]
  },
  {
   "cell_type": "code",
   "execution_count": 23,
   "metadata": {},
   "outputs": [
    {
     "name": "stdout",
     "output_type": "stream",
     "text": [
      "1\n",
      "9\n",
      "7 7 3 3 3 2 2 2 1\n",
      "8 8 7 7 5 5 4 3 2\n",
      "None\n",
      "None\n"
     ]
    }
   ],
   "source": [
    "def binary(num,l,start,end):\n",
    "    mid = (start+end)//2\n",
    "    if num == l[mid]:\n",
    "        index = mid\n",
    "            \n",
    "    elif num > l[mid]:\n",
    "        end = mid-1\n",
    "        return binary(num,l,start,end)\n",
    "    elif num < l[mid]:\n",
    "        start = mid+1\n",
    "        return binary(num,l,start,end)\n",
    "    return index\n",
    "\n",
    "def indices(index):\n",
    "    il = []\n",
    "    i = 1\n",
    "    il.append(index)\n",
    "    while index-i>=0 and index+i<len(a):\n",
    "        if a[index+i] == num:\n",
    "            il.append(index+i)\n",
    "        if a[index-i] == num:\n",
    "            il.append(index-i)\n",
    "        if a[index+i] != num and a[index-i] != num:\n",
    "            il.sort()\n",
    "            break\n",
    "        i+=1\n",
    "    return il.sort()\n",
    " \n",
    "\n",
    "for _ in range(int(input())):  #testcases\n",
    "    n = int(input())\n",
    "    ai,bj = [],[]\n",
    "    A = list(map(int,input().split()))\n",
    "    B = list(map(int,input().split()))\n",
    "    a = set(A)\n",
    "    b = set(B)\n",
    "    #for aa in a:\n",
    "    aa = 3\n",
    "    if aa in b:\n",
    "            i1 = binary(aa,A,0,n-1)\n",
    "            ai = indices(i1)\n",
    "            i2 = binary(aa,B,0,n-1)\n",
    "            bj = indices(i2)\n",
    "            \n",
    "    print(ai)\n",
    "    print(bj)"
   ]
  },
  {
   "cell_type": "code",
   "execution_count": null,
   "metadata": {},
   "outputs": [],
   "source": [
    "7 7 3 3 3 2 2 2 1\n",
    "8 8 7 7 5 5 4 3 2"
   ]
  },
  {
   "cell_type": "code",
   "execution_count": 33,
   "metadata": {},
   "outputs": [
    {
     "name": "stdout",
     "output_type": "stream",
     "text": [
      "a\n"
     ]
    }
   ],
   "source": [
    "if [1,2,3] == [1,2,3]:\n",
    "    \n",
    "    print('a')\n",
    "else:\n",
    "    print('b')"
   ]
  },
  {
   "cell_type": "code",
   "execution_count": 29,
   "metadata": {},
   "outputs": [
    {
     "name": "stdout",
     "output_type": "stream",
     "text": [
      "[1, 2]\n"
     ]
    }
   ],
   "source": [
    "a = [1,2]\n",
    "A = a.copy()\n",
    "print(A)"
   ]
  },
  {
   "cell_type": "code",
   "execution_count": 35,
   "metadata": {},
   "outputs": [
    {
     "name": "stdout",
     "output_type": "stream",
     "text": [
      "1\n",
      "6\n",
      "1 2 3 4 5 6\n",
      "3\n",
      "2 3 4\n",
      "[2, 3, 4]\n",
      "Yes\n"
     ]
    }
   ],
   "source": [
    "# cook your dish here\n",
    "try:\n",
    "    for _ in range(int(input())):\n",
    "        n = int(input())\n",
    "        A = list(map(int,input().split()))\n",
    "        a = A.copy()\n",
    "        m = int(input())\n",
    "        B = list(map(int,input().split()))\n",
    "        for num in A:\n",
    "            if num not in B:\n",
    "                a.remove(num)\n",
    "        if a == B:\n",
    "            print(\"Yes\")\n",
    "        else:\n",
    "            print(\"No\")\n",
    "except:\n",
    "    pass"
   ]
  },
  {
   "cell_type": "code",
   "execution_count": null,
   "metadata": {},
   "outputs": [],
   "source": []
  }
 ],
 "metadata": {
  "kernelspec": {
   "display_name": "Python 3",
   "language": "python",
   "name": "python3"
  },
  "language_info": {
   "codemirror_mode": {
    "name": "ipython",
    "version": 3
   },
   "file_extension": ".py",
   "mimetype": "text/x-python",
   "name": "python",
   "nbconvert_exporter": "python",
   "pygments_lexer": "ipython3",
   "version": "3.7.6"
  }
 },
 "nbformat": 4,
 "nbformat_minor": 4
}
