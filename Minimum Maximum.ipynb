{
 "cells": [
  {
   "cell_type": "code",
   "execution_count": 2,
   "metadata": {},
   "outputs": [
    {
     "name": "stdout",
     "output_type": "stream",
     "text": [
      "2\n",
      "3\n",
      "6 5 1\n",
      "1\n",
      "2\n",
      "2\n",
      "3\n",
      "6 5 2\n",
      "2\n",
      "4\n",
      "4\n"
     ]
    }
   ],
   "source": [
    "for _ in range(int(input())):\n",
    "    n = int(input())\n",
    "    a = list(map(int,input().split()))\n",
    "    cost = 0\n",
    "    a.sort()\n",
    "    while True:\n",
    "        if len(a) == 1:\n",
    "            break\n",
    "        cost+=min(a[0],a[1])\n",
    "        a.remove(max(a[0],a[1]))\n",
    "        print(cost)\n",
    "    print(cost)"
   ]
  },
  {
   "cell_type": "code",
   "execution_count": 8,
   "metadata": {},
   "outputs": [
    {
     "name": "stdout",
     "output_type": "stream",
     "text": [
      "2\n",
      "3\n",
      "6 5 1\n",
      "2\n",
      "3\n",
      "6 5 2\n",
      "4\n"
     ]
    }
   ],
   "source": [
    "try:\n",
    "    for i in range(int(input())):\n",
    "        t=int(input())\n",
    "        ar=list(map(int,input().split()))\n",
    "        print(min(ar)*(t-1))\n",
    "except:\n",
    "    pass"
   ]
  },
  {
   "cell_type": "code",
   "execution_count": null,
   "metadata": {},
   "outputs": [],
   "source": []
  }
 ],
 "metadata": {
  "kernelspec": {
   "display_name": "Python 3",
   "language": "python",
   "name": "python3"
  },
  "language_info": {
   "codemirror_mode": {
    "name": "ipython",
    "version": 3
   },
   "file_extension": ".py",
   "mimetype": "text/x-python",
   "name": "python",
   "nbconvert_exporter": "python",
   "pygments_lexer": "ipython3",
   "version": "3.7.6"
  }
 },
 "nbformat": 4,
 "nbformat_minor": 4
}
