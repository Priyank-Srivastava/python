{
 "cells": [
  {
   "cell_type": "code",
   "execution_count": null,
   "metadata": {},
   "outputs": [],
   "source": [
    "try :\n",
    "    test = int(input())                                              #'number of testcases:'\n",
    "    for cases in range(1,test+1):\n",
    "        add = 0\n",
    "        times_pluck = int(input())                                   #'number of times'\n",
    "        string = list(map(int,input().split()))\n",
    "        #print(lists)\n",
    "        length = len(string)\n",
    "        for i in range(length-1):\n",
    "            difference = (abs(string[i]-string[i+1]))-1\n",
    "            add+=difference\n",
    "        print(add)\n",
    "except:\n",
    "    pass"
   ]
  }
 ],
 "metadata": {
  "kernelspec": {
   "display_name": "Python 3",
   "language": "python",
   "name": "python3"
  },
  "language_info": {
   "codemirror_mode": {
    "name": "ipython",
    "version": 3
   },
   "file_extension": ".py",
   "mimetype": "text/x-python",
   "name": "python",
   "nbconvert_exporter": "python",
   "pygments_lexer": "ipython3",
   "version": "3.7.6"
  }
 },
 "nbformat": 4,
 "nbformat_minor": 4
}
