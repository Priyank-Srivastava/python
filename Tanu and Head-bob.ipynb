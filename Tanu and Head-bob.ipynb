{
 "cells": [
  {
   "cell_type": "code",
   "execution_count": 5,
   "metadata": {},
   "outputs": [
    {
     "name": "stdout",
     "output_type": "stream",
     "text": [
      "3\n",
      "5\n",
      "nnnyy\n",
      "NOT INDIAN\n",
      "6\n",
      "nninni\n",
      "INDIAN\n",
      "4\n",
      "nnnn\n",
      "NOT SURE\n"
     ]
    }
   ],
   "source": [
    "try:\n",
    "    for _ in range(int(input())):\n",
    "        n = int(input())\n",
    "        say = input()\n",
    "        say = say.upper()\n",
    "        gesture = []\n",
    "        for i in range(len(say)):\n",
    "            gesture.append(say[i])\n",
    "        if 'I' in gesture:\n",
    "            print('INDIAN')\n",
    "        elif 'I' not in gesture:\n",
    "            if gesture.count('N') == n:\n",
    "                print('NOT SURE')\n",
    "            else:\n",
    "                print('NOT INDIAN')\n",
    "except:\n",
    "    pass"
   ]
  },
  {
   "cell_type": "code",
   "execution_count": null,
   "metadata": {},
   "outputs": [],
   "source": []
  }
 ],
 "metadata": {
  "kernelspec": {
   "display_name": "Python 3",
   "language": "python",
   "name": "python3"
  },
  "language_info": {
   "codemirror_mode": {
    "name": "ipython",
    "version": 3
   },
   "file_extension": ".py",
   "mimetype": "text/x-python",
   "name": "python",
   "nbconvert_exporter": "python",
   "pygments_lexer": "ipython3",
   "version": "3.7.6"
  }
 },
 "nbformat": 4,
 "nbformat_minor": 4
}
