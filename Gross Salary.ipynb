{
 "cells": [
  {
   "cell_type": "code",
   "execution_count": 2,
   "metadata": {},
   "outputs": [
    {
     "name": "stdout",
     "output_type": "stream",
     "text": [
      "3\n",
      "1203\n",
      "2406.00\n",
      "10042\n",
      "20383.16\n",
      "2400\n",
      "5252.00\n"
     ]
    }
   ],
   "source": [
    "try:\n",
    "    for _ in range(int(input())):\n",
    "        salary = int(input())\n",
    "        if salary <1500:\n",
    "            hra = salary*.1\n",
    "            da = salary*.9\n",
    "            gross = salary+hra+da\n",
    "        else:\n",
    "            hra = 500\n",
    "            da = salary*.98\n",
    "            gross = salary+hra+da\n",
    "        print('%.2f'%gross)\n",
    "except:\n",
    "    pass"
   ]
  },
  {
   "cell_type": "code",
   "execution_count": null,
   "metadata": {},
   "outputs": [],
   "source": []
  }
 ],
 "metadata": {
  "kernelspec": {
   "display_name": "Python 3",
   "language": "python",
   "name": "python3"
  },
  "language_info": {
   "codemirror_mode": {
    "name": "ipython",
    "version": 3
   },
   "file_extension": ".py",
   "mimetype": "text/x-python",
   "name": "python",
   "nbconvert_exporter": "python",
   "pygments_lexer": "ipython3",
   "version": "3.7.6"
  }
 },
 "nbformat": 4,
 "nbformat_minor": 4
}
