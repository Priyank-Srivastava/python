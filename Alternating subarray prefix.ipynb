{
 "cells": [
  {
   "cell_type": "code",
   "execution_count": 1,
   "metadata": {},
   "outputs": [
    {
     "name": "stdout",
     "output_type": "stream",
     "text": [
      "5\n",
      "6552 255\n"
     ]
    },
    {
     "ename": "ValueError",
     "evalue": "invalid literal for int() with base 10: '6552 255'",
     "output_type": "error",
     "traceback": [
      "\u001b[1;31m---------------------------------------------------------------------------\u001b[0m",
      "\u001b[1;31mValueError\u001b[0m                                Traceback (most recent call last)",
      "\u001b[1;32m<ipython-input-1-ca8d778669c7>\u001b[0m in \u001b[0;36m<module>\u001b[1;34m\u001b[0m\n\u001b[0;32m      1\u001b[0m \u001b[1;31m# cook your dish here\u001b[0m\u001b[1;33m\u001b[0m\u001b[1;33m\u001b[0m\u001b[1;33m\u001b[0m\u001b[0m\n\u001b[0;32m      2\u001b[0m \u001b[1;32mfor\u001b[0m \u001b[0m_\u001b[0m \u001b[1;32min\u001b[0m \u001b[0mrange\u001b[0m\u001b[1;33m(\u001b[0m\u001b[0mint\u001b[0m\u001b[1;33m(\u001b[0m\u001b[0minput\u001b[0m\u001b[1;33m(\u001b[0m\u001b[1;33m)\u001b[0m\u001b[1;33m)\u001b[0m\u001b[1;33m)\u001b[0m\u001b[1;33m:\u001b[0m\u001b[1;33m\u001b[0m\u001b[1;33m\u001b[0m\u001b[0m\n\u001b[1;32m----> 3\u001b[1;33m     \u001b[0mn\u001b[0m \u001b[1;33m=\u001b[0m \u001b[0mint\u001b[0m\u001b[1;33m(\u001b[0m\u001b[0minput\u001b[0m\u001b[1;33m(\u001b[0m\u001b[1;33m)\u001b[0m\u001b[1;33m)\u001b[0m\u001b[1;33m\u001b[0m\u001b[1;33m\u001b[0m\u001b[0m\n\u001b[0m\u001b[0;32m      4\u001b[0m     \u001b[0ml\u001b[0m \u001b[1;33m=\u001b[0m \u001b[0mlist\u001b[0m\u001b[1;33m(\u001b[0m\u001b[0mmap\u001b[0m\u001b[1;33m(\u001b[0m\u001b[0mint\u001b[0m\u001b[1;33m,\u001b[0m\u001b[0minput\u001b[0m\u001b[1;33m(\u001b[0m\u001b[1;33m)\u001b[0m\u001b[1;33m.\u001b[0m\u001b[0msplit\u001b[0m\u001b[1;33m(\u001b[0m\u001b[1;33m)\u001b[0m\u001b[1;33m)\u001b[0m\u001b[1;33m)\u001b[0m\u001b[1;33m\u001b[0m\u001b[1;33m\u001b[0m\u001b[0m\n\u001b[0;32m      5\u001b[0m     \u001b[0mc\u001b[0m \u001b[1;33m=\u001b[0m \u001b[1;36m1\u001b[0m\u001b[1;33m\u001b[0m\u001b[1;33m\u001b[0m\u001b[0m\n",
      "\u001b[1;31mValueError\u001b[0m: invalid literal for int() with base 10: '6552 255'"
     ]
    }
   ],
   "source": [
    "# cook your dish here\n",
    "for _ in range(int(input())):\n",
    "    n = int(input())\n",
    "    l = list(map(int,input().split()))\n",
    "    c = 1\n",
    "    count = [c]\n",
    "    for j in range(n-2,-1,-1):\n",
    "        if l[j]*l[j+1]<0:\n",
    "            c+=1\n",
    "        else:\n",
    "            c = 1\n",
    "        count.append(c)\n",
    "    count.reverse()\n",
    "    print(*count)"
   ]
  },
  {
   "cell_type": "code",
   "execution_count": null,
   "metadata": {},
   "outputs": [],
   "source": [
    "import re\n",
    "n=str(input())\n",
    "print(bool(re.match(r'^[+,-]?[0-9]*\\.[0-9]+$',n)))"
   ]
  },
  {
   "cell_type": "code",
   "execution_count": null,
   "metadata": {},
   "outputs": [],
   "source": [
    "n = input()\n",
    "num = re.findall(r'\\d{1,3}',n)\n",
    "for i in num:\n",
    "    print(i)"
   ]
  },
  {
   "cell_type": "code",
   "execution_count": null,
   "metadata": {},
   "outputs": [],
   "source": [
    "n = input()\n",
    "total=0\n",
    "arr = list(map(int,input().split()))\n",
    "for element in set(arr):\n",
    "    total+=(arr.count(element)//2)\n",
    "print(total)"
   ]
  },
  {
   "cell_type": "code",
   "execution_count": null,
   "metadata": {},
   "outputs": [],
   "source": [
    "print(ord('a'))\n",
    "print(ord('A'))"
   ]
  },
  {
   "cell_type": "code",
   "execution_count": 20,
   "metadata": {},
   "outputs": [
    {
     "name": "stdout",
     "output_type": "stream",
     "text": [
      "hello   world  lol\n",
      "Hello   World  Lol\n"
     ]
    }
   ],
   "source": [
    "s = input()\n",
    "result = True\n",
    "n = ''\n",
    "for i in range(len(s)):\n",
    "    if s[i]==' ':\n",
    "        n+=' '\n",
    "        result=True\n",
    "    elif result==True:\n",
    "        n+=s[i].upper()\n",
    "        result = False\n",
    "    else:\n",
    "        n+=s[i]\n",
    "print(n)"
   ]
  },
  {
   "cell_type": "code",
   "execution_count": 45,
   "metadata": {},
   "outputs": [
    {
     "name": "stdout",
     "output_type": "stream",
     "text": [
      "7\n",
      "0 0 1 0 0 1 0\n",
      "4\n"
     ]
    }
   ],
   "source": [
    "n = int(input())\n",
    "c = list(map(int,input().split()))\n",
    "i=jump=0\n",
    "while i<n-1:\n",
    "    if i+2<n and c[i]==0:\n",
    "        i+=2\n",
    "    else:\n",
    "        i+=1\n",
    "    jump+=1\n",
    "print(jump)"
   ]
  },
  {
   "cell_type": "code",
   "execution_count": 76,
   "metadata": {},
   "outputs": [
    {
     "name": "stdout",
     "output_type": "stream",
     "text": [
      "abcac\n",
      "10\n",
      "abcacabcac\n"
     ]
    },
    {
     "data": {
      "text/plain": [
       "4"
      ]
     },
     "execution_count": 76,
     "metadata": {},
     "output_type": "execute_result"
    }
   ],
   "source": [
    "s=input()\n",
    "n=int(input())\n",
    "say=''\n",
    "q=n//len(s)\n",
    "p=len(s)*q\n",
    "d=abs(n-p)\n",
    "print(d)\n",
    "say=(s*q)\n",
    "for i in range(d):\n",
    "    #print(s[i])\n",
    "    say=say+s[i]\n",
    "ans=say.count('a')\n",
    "print(say)\n",
    "ans"
   ]
  },
  {
   "cell_type": "code",
   "execution_count": 78,
   "metadata": {},
   "outputs": [
    {
     "name": "stdout",
     "output_type": "stream",
     "text": [
      "a\n",
      "1000000000000\n"
     ]
    },
    {
     "data": {
      "text/plain": [
       "1000000000000"
      ]
     },
     "execution_count": 78,
     "metadata": {},
     "output_type": "execute_result"
    }
   ],
   "source": [
    "s=input()\n",
    "n=int(input())\n",
    "ans = s.count('a')\n",
    "q=n//len(s)\n",
    "p=len(s)*q\n",
    "d=n-p\n",
    "ans*=q\n",
    "t=s[:d]\n",
    "ans+=t.count('a')\n",
    "ans"
   ]
  },
  {
   "cell_type": "code",
   "execution_count": 87,
   "metadata": {},
   "outputs": [
    {
     "name": "stdout",
     "output_type": "stream",
     "text": [
      "j\n"
     ]
    }
   ],
   "source": [
    "ch = 96\n",
    "print(chr((96+10)))"
   ]
  },
  {
   "cell_type": "code",
   "execution_count": 85,
   "metadata": {},
   "outputs": [
    {
     "name": "stdout",
     "output_type": "stream",
     "text": [
      "BANANA\n",
      "B\n",
      "A\n",
      "N\n",
      "A\n",
      "N\n",
      "A\n",
      "Stuart 12\n"
     ]
    }
   ],
   "source": [
    "def minion_game(string):\n",
    "    # your code goes here\n",
    "    length = len(string)\n",
    "    vowels = ['A','E','I','O','U']\n",
    "    cons = vow = 0\n",
    "    for i in range(len(string)):\n",
    "        if string[i] in vowels:\n",
    "            vow += length\n",
    "        else:\n",
    "            cons += length\n",
    "        length-=1\n",
    "    if vow>cons:\n",
    "        print('Kevin',vow)\n",
    "    elif cons>vow:\n",
    "        print('Stuart',cons)\n",
    "    else:\n",
    "        print('Draw')\n",
    "\n",
    "if __name__ == '__main__':\n",
    "    s = input()\n",
    "    minion_game(s)"
   ]
  },
  {
   "cell_type": "code",
   "execution_count": 10,
   "metadata": {},
   "outputs": [
    {
     "name": "stdout",
     "output_type": "stream",
     "text": [
      "AABCAAADA\n",
      "3\n",
      "['AAB', 'CAA', 'ADA']\n"
     ]
    }
   ],
   "source": [
    "def function_n(string,k):\n",
    "    s=len(string)/k\n",
    "    i=0\n",
    "    c=k\n",
    "    l=[]\n",
    "    while(i<len(string)-1):\n",
    "        l.append(string[i:c])\n",
    "        i=c\n",
    "        c+=k\n",
    "    print(l)\n",
    "if __name__ == '__main__':\n",
    "    string = input()\n",
    "    k = int(input())\n",
    "    function_n(string,k)    "
   ]
  },
  {
   "cell_type": "code",
   "execution_count": 16,
   "metadata": {},
   "outputs": [
    {
     "name": "stdout",
     "output_type": "stream",
     "text": [
      "aaabcadde\n",
      "3\n",
      "a\n",
      "bca\n",
      "de\n"
     ]
    }
   ],
   "source": [
    "def function_n(string,k):\n",
    "    length=len(string)\n",
    "    s=''\n",
    "    mult=1\n",
    "    for i in range(length):\n",
    "        if string[i] not in s:\n",
    "            s+=string[i]\n",
    "        if i==(mult*k-1):\n",
    "            mult+=1\n",
    "            print(s)\n",
    "            s=''\n",
    "if __name__ == '__main__':\n",
    "    string = input()\n",
    "    k = int(input())\n",
    "    function_n(string,k)    "
   ]
  },
  {
   "cell_type": "code",
   "execution_count": 29,
   "metadata": {},
   "outputs": [
    {
     "name": "stdout",
     "output_type": "stream",
     "text": [
      "D\n",
      "L\n",
      "U\n",
      "R\n",
      "R\n",
      "U\n",
      "L\n",
      "D\n",
      "D\n",
      "R\n",
      "U\n",
      "L\n"
     ]
    },
    {
     "data": {
      "text/plain": [
       "87487882"
      ]
     },
     "execution_count": 29,
     "metadata": {},
     "output_type": "execute_result"
    }
   ],
   "source": [
    "check=0\n",
    "l,r,d,u=76,82,85,68\n",
    "s='dlurrulddrul'\n",
    "#s='lu'\n",
    "s=s.upper()\n",
    "for i in range(len(s)):\n",
    "    print(s[i])\n",
    "    check = (check*243+ord(s[i]))%100000007\n",
    "#check = (check*243+85)%100000007\n",
    "#check = (check*243+76)%100000007\n",
    "#check = (check*243+85)%100000007\n",
    "#check = (check*243+82)%100000007\n",
    "check"
   ]
  },
  {
   "cell_type": "code",
   "execution_count": 133,
   "metadata": {},
   "outputs": [
    {
     "name": "stdout",
     "output_type": "stream",
     "text": [
      "39 117\n",
      "---------------------------------------------------------.|.---------------------------------------------------------\n",
      "------------------------------------------------------.|..|..|.------------------------------------------------------\n",
      "---------------------------------------------------.|..|..|..|..|.---------------------------------------------------\n",
      "------------------------------------------------.|..|..|..|..|..|..|.------------------------------------------------\n",
      "---------------------------------------------.|..|..|..|..|..|..|..|..|.---------------------------------------------\n",
      "------------------------------------------.|..|..|..|..|..|..|..|..|..|..|.------------------------------------------\n",
      "---------------------------------------.|..|..|..|..|..|..|..|..|..|..|..|..|.---------------------------------------\n",
      "------------------------------------.|..|..|..|..|..|..|..|..|..|..|..|..|..|..|.------------------------------------\n",
      "---------------------------------.|..|..|..|..|..|..|..|..|..|..|..|..|..|..|..|..|.---------------------------------\n",
      "------------------------------.|..|..|..|..|..|..|..|..|..|..|..|..|..|..|..|..|..|..|.------------------------------\n",
      "---------------------------.|..|..|..|..|..|..|..|..|..|..|..|..|..|..|..|..|..|..|..|..|.---------------------------\n",
      "------------------------.|..|..|..|..|..|..|..|..|..|..|..|..|..|..|..|..|..|..|..|..|..|..|.------------------------\n",
      "---------------------.|..|..|..|..|..|..|..|..|..|..|..|..|..|..|..|..|..|..|..|..|..|..|..|..|.---------------------\n",
      "------------------.|..|..|..|..|..|..|..|..|..|..|..|..|..|..|..|..|..|..|..|..|..|..|..|..|..|..|.------------------\n",
      "---------------.|..|..|..|..|..|..|..|..|..|..|..|..|..|..|..|..|..|..|..|..|..|..|..|..|..|..|..|..|.---------------\n",
      "------------.|..|..|..|..|..|..|..|..|..|..|..|..|..|..|..|..|..|..|..|..|..|..|..|..|..|..|..|..|..|..|.------------\n",
      "---------.|..|..|..|..|..|..|..|..|..|..|..|..|..|..|..|..|..|..|..|..|..|..|..|..|..|..|..|..|..|..|..|..|.---------\n",
      "------.|..|..|..|..|..|..|..|..|..|..|..|..|..|..|..|..|..|..|..|..|..|..|..|..|..|..|..|..|..|..|..|..|..|..|.------\n",
      "---.|..|..|..|..|..|..|..|..|..|..|..|..|..|..|..|..|..|..|..|..|..|..|..|..|..|..|..|..|..|..|..|..|..|..|..|..|.---\n",
      "-------------------------------------------------------WELCOME-------------------------------------------------------\n",
      "---.|..|..|..|..|..|..|..|..|..|..|..|..|..|..|..|..|..|..|..|..|..|..|..|..|..|..|..|..|..|..|..|..|..|..|..|..|.---\n",
      "------.|..|..|..|..|..|..|..|..|..|..|..|..|..|..|..|..|..|..|..|..|..|..|..|..|..|..|..|..|..|..|..|..|..|..|.------\n",
      "---------.|..|..|..|..|..|..|..|..|..|..|..|..|..|..|..|..|..|..|..|..|..|..|..|..|..|..|..|..|..|..|..|..|.---------\n",
      "------------.|..|..|..|..|..|..|..|..|..|..|..|..|..|..|..|..|..|..|..|..|..|..|..|..|..|..|..|..|..|..|.------------\n",
      "---------------.|..|..|..|..|..|..|..|..|..|..|..|..|..|..|..|..|..|..|..|..|..|..|..|..|..|..|..|..|.---------------\n",
      "------------------.|..|..|..|..|..|..|..|..|..|..|..|..|..|..|..|..|..|..|..|..|..|..|..|..|..|..|.------------------\n",
      "---------------------.|..|..|..|..|..|..|..|..|..|..|..|..|..|..|..|..|..|..|..|..|..|..|..|..|.---------------------\n",
      "------------------------.|..|..|..|..|..|..|..|..|..|..|..|..|..|..|..|..|..|..|..|..|..|..|.------------------------\n",
      "---------------------------.|..|..|..|..|..|..|..|..|..|..|..|..|..|..|..|..|..|..|..|..|.---------------------------\n",
      "------------------------------.|..|..|..|..|..|..|..|..|..|..|..|..|..|..|..|..|..|..|.------------------------------\n",
      "---------------------------------.|..|..|..|..|..|..|..|..|..|..|..|..|..|..|..|..|.---------------------------------\n",
      "------------------------------------.|..|..|..|..|..|..|..|..|..|..|..|..|..|..|.------------------------------------\n",
      "---------------------------------------.|..|..|..|..|..|..|..|..|..|..|..|..|.---------------------------------------\n",
      "------------------------------------------.|..|..|..|..|..|..|..|..|..|..|.------------------------------------------\n",
      "---------------------------------------------.|..|..|..|..|..|..|..|..|.---------------------------------------------\n",
      "------------------------------------------------.|..|..|..|..|..|..|.------------------------------------------------\n",
      "---------------------------------------------------.|..|..|..|..|.---------------------------------------------------\n",
      "------------------------------------------------------.|..|..|.------------------------------------------------------\n",
      "---------------------------------------------------------.|.---------------------------------------------------------\n"
     ]
    }
   ],
   "source": [
    "l = list(map(int,input().split()))\n",
    "n=l[0]\n",
    "m=l[1]\n",
    "hyphen_breaker=1\n",
    "flag=True\n",
    "for i in range(n):\n",
    "    c=0\n",
    "    for j in range(m):\n",
    "        if c>m-1:\n",
    "            break\n",
    "        if i<((n+1)/2)-1:\n",
    "            if c<((m-(hyphen_breaker*3))/2) or c>=(((m-(hyphen_breaker*3))/2)+hyphen_breaker*3):\n",
    "                print('-',end='')\n",
    "                c+=1\n",
    "            elif c>=((m-(hyphen_breaker*3))/2):\n",
    "                c+=3\n",
    "                print('.|.',end='')\n",
    "        elif i==((n+1)/2)-1:\n",
    "            if c<(m-7)/2 or c>=((m-7)/2)+7:\n",
    "                print('-',end='')\n",
    "                c+=1\n",
    "            elif c==(m-7)/2:\n",
    "                print('WELCOME',end='')\n",
    "                c+=7\n",
    "            flag=False\n",
    "        elif i>((n+1)/2)-1:\n",
    "            #flag=False\n",
    "            if c<((m-(hyphen_breaker*3))/2) or c>=(((m-(hyphen_breaker*3))/2)+hyphen_breaker*3):\n",
    "                print('-',end='')\n",
    "                c+=1\n",
    "            elif c>=((m-(hyphen_breaker*3))/2):\n",
    "                c+=3\n",
    "                print('.|.',end='')\n",
    "    if flag==True:\n",
    "        hyphen_breaker+=2\n",
    "    elif flag==False:\n",
    "        hyphen_breaker-=2\n",
    "    print('')"
   ]
  },
  {
   "cell_type": "code",
   "execution_count": 137,
   "metadata": {},
   "outputs": [
    {
     "name": "stdout",
     "output_type": "stream",
     "text": [
      "26\n",
      "--------------------------------------------------z--------------------------------------------------\n",
      "------------------------------------------------z-y-z------------------------------------------------\n",
      "----------------------------------------------z-y-x-y-z----------------------------------------------\n",
      "--------------------------------------------z-y-x-w-x-y-z--------------------------------------------\n",
      "------------------------------------------z-y-x-w-v-w-x-y-z------------------------------------------\n",
      "----------------------------------------z-y-x-w-v-u-v-w-x-y-z----------------------------------------\n",
      "--------------------------------------z-y-x-w-v-u-t-u-v-w-x-y-z--------------------------------------\n",
      "------------------------------------z-y-x-w-v-u-t-s-t-u-v-w-x-y-z------------------------------------\n",
      "----------------------------------z-y-x-w-v-u-t-s-r-s-t-u-v-w-x-y-z----------------------------------\n",
      "--------------------------------z-y-x-w-v-u-t-s-r-q-r-s-t-u-v-w-x-y-z--------------------------------\n",
      "------------------------------z-y-x-w-v-u-t-s-r-q-p-q-r-s-t-u-v-w-x-y-z------------------------------\n",
      "----------------------------z-y-x-w-v-u-t-s-r-q-p-o-p-q-r-s-t-u-v-w-x-y-z----------------------------\n",
      "--------------------------z-y-x-w-v-u-t-s-r-q-p-o-n-o-p-q-r-s-t-u-v-w-x-y-z--------------------------\n",
      "------------------------z-y-x-w-v-u-t-s-r-q-p-o-n-m-n-o-p-q-r-s-t-u-v-w-x-y-z------------------------\n",
      "----------------------z-y-x-w-v-u-t-s-r-q-p-o-n-m-l-m-n-o-p-q-r-s-t-u-v-w-x-y-z----------------------\n",
      "--------------------z-y-x-w-v-u-t-s-r-q-p-o-n-m-l-k-l-m-n-o-p-q-r-s-t-u-v-w-x-y-z--------------------\n",
      "------------------z-y-x-w-v-u-t-s-r-q-p-o-n-m-l-k-j-k-l-m-n-o-p-q-r-s-t-u-v-w-x-y-z------------------\n",
      "----------------z-y-x-w-v-u-t-s-r-q-p-o-n-m-l-k-j-i-j-k-l-m-n-o-p-q-r-s-t-u-v-w-x-y-z----------------\n",
      "--------------z-y-x-w-v-u-t-s-r-q-p-o-n-m-l-k-j-i-h-i-j-k-l-m-n-o-p-q-r-s-t-u-v-w-x-y-z--------------\n",
      "------------z-y-x-w-v-u-t-s-r-q-p-o-n-m-l-k-j-i-h-g-h-i-j-k-l-m-n-o-p-q-r-s-t-u-v-w-x-y-z------------\n",
      "----------z-y-x-w-v-u-t-s-r-q-p-o-n-m-l-k-j-i-h-g-f-g-h-i-j-k-l-m-n-o-p-q-r-s-t-u-v-w-x-y-z----------\n",
      "--------z-y-x-w-v-u-t-s-r-q-p-o-n-m-l-k-j-i-h-g-f-e-f-g-h-i-j-k-l-m-n-o-p-q-r-s-t-u-v-w-x-y-z--------\n",
      "------z-y-x-w-v-u-t-s-r-q-p-o-n-m-l-k-j-i-h-g-f-e-d-e-f-g-h-i-j-k-l-m-n-o-p-q-r-s-t-u-v-w-x-y-z------\n",
      "----z-y-x-w-v-u-t-s-r-q-p-o-n-m-l-k-j-i-h-g-f-e-d-c-d-e-f-g-h-i-j-k-l-m-n-o-p-q-r-s-t-u-v-w-x-y-z----\n",
      "--z-y-x-w-v-u-t-s-r-q-p-o-n-m-l-k-j-i-h-g-f-e-d-c-b-c-d-e-f-g-h-i-j-k-l-m-n-o-p-q-r-s-t-u-v-w-x-y-z--\n",
      "z-y-x-w-v-u-t-s-r-q-p-o-n-m-l-k-j-i-h-g-f-e-d-c-b-a-b-c-d-e-f-g-h-i-j-k-l-m-n-o-p-q-r-s-t-u-v-w-x-y-z\n",
      "--z-y-x-w-v-u-t-s-r-q-p-o-n-m-l-k-j-i-h-g-f-e-d-c-b-c-d-e-f-g-h-i-j-k-l-m-n-o-p-q-r-s-t-u-v-w-x-y-z--\n",
      "----z-y-x-w-v-u-t-s-r-q-p-o-n-m-l-k-j-i-h-g-f-e-d-c-d-e-f-g-h-i-j-k-l-m-n-o-p-q-r-s-t-u-v-w-x-y-z----\n",
      "------z-y-x-w-v-u-t-s-r-q-p-o-n-m-l-k-j-i-h-g-f-e-d-e-f-g-h-i-j-k-l-m-n-o-p-q-r-s-t-u-v-w-x-y-z------\n",
      "--------z-y-x-w-v-u-t-s-r-q-p-o-n-m-l-k-j-i-h-g-f-e-f-g-h-i-j-k-l-m-n-o-p-q-r-s-t-u-v-w-x-y-z--------\n",
      "----------z-y-x-w-v-u-t-s-r-q-p-o-n-m-l-k-j-i-h-g-f-g-h-i-j-k-l-m-n-o-p-q-r-s-t-u-v-w-x-y-z----------\n",
      "------------z-y-x-w-v-u-t-s-r-q-p-o-n-m-l-k-j-i-h-g-h-i-j-k-l-m-n-o-p-q-r-s-t-u-v-w-x-y-z------------\n",
      "--------------z-y-x-w-v-u-t-s-r-q-p-o-n-m-l-k-j-i-h-i-j-k-l-m-n-o-p-q-r-s-t-u-v-w-x-y-z--------------\n",
      "----------------z-y-x-w-v-u-t-s-r-q-p-o-n-m-l-k-j-i-j-k-l-m-n-o-p-q-r-s-t-u-v-w-x-y-z----------------\n",
      "------------------z-y-x-w-v-u-t-s-r-q-p-o-n-m-l-k-j-k-l-m-n-o-p-q-r-s-t-u-v-w-x-y-z------------------\n",
      "--------------------z-y-x-w-v-u-t-s-r-q-p-o-n-m-l-k-l-m-n-o-p-q-r-s-t-u-v-w-x-y-z--------------------\n",
      "----------------------z-y-x-w-v-u-t-s-r-q-p-o-n-m-l-m-n-o-p-q-r-s-t-u-v-w-x-y-z----------------------\n",
      "------------------------z-y-x-w-v-u-t-s-r-q-p-o-n-m-n-o-p-q-r-s-t-u-v-w-x-y-z------------------------\n",
      "--------------------------z-y-x-w-v-u-t-s-r-q-p-o-n-o-p-q-r-s-t-u-v-w-x-y-z--------------------------\n",
      "----------------------------z-y-x-w-v-u-t-s-r-q-p-o-p-q-r-s-t-u-v-w-x-y-z----------------------------\n",
      "------------------------------z-y-x-w-v-u-t-s-r-q-p-q-r-s-t-u-v-w-x-y-z------------------------------\n",
      "--------------------------------z-y-x-w-v-u-t-s-r-q-r-s-t-u-v-w-x-y-z--------------------------------\n",
      "----------------------------------z-y-x-w-v-u-t-s-r-s-t-u-v-w-x-y-z----------------------------------\n",
      "------------------------------------z-y-x-w-v-u-t-s-t-u-v-w-x-y-z------------------------------------\n",
      "--------------------------------------z-y-x-w-v-u-t-u-v-w-x-y-z--------------------------------------\n",
      "----------------------------------------z-y-x-w-v-u-v-w-x-y-z----------------------------------------\n",
      "------------------------------------------z-y-x-w-v-w-x-y-z------------------------------------------\n",
      "--------------------------------------------z-y-x-w-x-y-z--------------------------------------------\n",
      "----------------------------------------------z-y-x-y-z----------------------------------------------\n",
      "------------------------------------------------z-y-z------------------------------------------------\n",
      "--------------------------------------------------z--------------------------------------------------\n"
     ]
    }
   ],
   "source": [
    "n=int(input())\n",
    "rows = (2*n)-1\n",
    "columns = (2*n)-1\n",
    "columns+=(columns-1)\n",
    "r=n-1\n",
    "s=n\n",
    "for row in range(1,rows+1):\n",
    "    flag=True\n",
    "    i=n\n",
    "    for col in range(1,columns+1):\n",
    "        if row<=n:\n",
    "            if col<=2*r or col>(2*r)+((2*(row-1)+1)+2*(row-1)):\n",
    "                print('-',end='')\n",
    "            elif col>2*r:\n",
    "                if flag==True:\n",
    "                    print(chr(96+i),end='')\n",
    "                    flag=False\n",
    "                    if col<(columns+1)/2:\n",
    "                        i-=1\n",
    "                    if col>=(columns+1)/2:\n",
    "                        i+=1\n",
    "                elif flag==False:\n",
    "                    print('-',end='')\n",
    "                    flag=True\n",
    "        elif row>n:\n",
    "            #print(col,2*r)\n",
    "            if col<=2*r or col>(2*r)+((2*(s-1)+1)+2*(s-1)):\n",
    "                print('-',end='')\n",
    "            elif col>2*r:\n",
    "                if flag==True:\n",
    "                    print(chr(96+i),end='')\n",
    "                    flag=False\n",
    "                    if col<(columns+1)/2:\n",
    "                        i-=1\n",
    "                    #if col>=(columns+1)/2:\n",
    "                    else:\n",
    "                        i+=1\n",
    "                elif flag==False:\n",
    "                    print('-',end='')\n",
    "                    flag=True\n",
    "\n",
    "    if row<n:\n",
    "        r-=1\n",
    "    else:\n",
    "        r+=1\n",
    "        s-=1\n",
    "    print('')"
   ]
  },
  {
   "cell_type": "code",
   "execution_count": 173,
   "metadata": {},
   "outputs": [
    {
     "name": "stdout",
     "output_type": "stream",
     "text": [
      "1\n",
      "100\n",
      "1°\n"
     ]
    }
   ],
   "source": [
    "import math\n",
    "degree_sign = u\"\\N{DEGREE SIGN}\"\n",
    "ab = int(input())\n",
    "bc = int(input())\n",
    "x = math.atan(ab/bc)\n",
    "Q = (180/math.pi)*x\n",
    "lv = int(Q)\n",
    "if Q>=lv+0.5:\n",
    "    print('{}{}'.format(lv+1,degree_sign))\n",
    "else:\n",
    "    print('{}{}'.format(lv,degree_sign))q"
   ]
  },
  {
   "cell_type": "code",
   "execution_count": 185,
   "metadata": {},
   "outputs": [
    {
     "name": "stdout",
     "output_type": "stream",
     "text": [
      "q2a\n"
     ]
    },
    {
     "ename": "AttributeError",
     "evalue": "'str' object has no attribute 'fun'",
     "output_type": "error",
     "traceback": [
      "\u001b[1;31m---------------------------------------------------------------------------\u001b[0m",
      "\u001b[1;31mAttributeError\u001b[0m                            Traceback (most recent call last)",
      "\u001b[1;32m<ipython-input-185-ba4319fd4111>\u001b[0m in \u001b[0;36m<module>\u001b[1;34m\u001b[0m\n\u001b[0;32m      3\u001b[0m     \u001b[0mfuncs\u001b[0m \u001b[1;33m=\u001b[0m \u001b[1;33m[\u001b[0m\u001b[1;34m'isalnum()'\u001b[0m\u001b[1;33m,\u001b[0m\u001b[1;34m'isalpha()'\u001b[0m\u001b[1;33m,\u001b[0m\u001b[1;34m'isdigit()'\u001b[0m\u001b[1;33m,\u001b[0m\u001b[1;34m'islower()'\u001b[0m\u001b[1;33m,\u001b[0m\u001b[1;34m'isupper()'\u001b[0m\u001b[1;33m]\u001b[0m\u001b[1;33m\u001b[0m\u001b[1;33m\u001b[0m\u001b[0m\n\u001b[0;32m      4\u001b[0m     \u001b[1;32mfor\u001b[0m \u001b[0mfun\u001b[0m \u001b[1;32min\u001b[0m \u001b[0mfuncs\u001b[0m\u001b[1;33m:\u001b[0m\u001b[1;33m\u001b[0m\u001b[1;33m\u001b[0m\u001b[0m\n\u001b[1;32m----> 5\u001b[1;33m         \u001b[0mprint\u001b[0m\u001b[1;33m(\u001b[0m\u001b[0ms\u001b[0m\u001b[1;33m.\u001b[0m\u001b[0mfun\u001b[0m\u001b[1;33m)\u001b[0m\u001b[1;33m\u001b[0m\u001b[1;33m\u001b[0m\u001b[0m\n\u001b[0m\u001b[0;32m      6\u001b[0m \u001b[1;33m\u001b[0m\u001b[0m\n",
      "\u001b[1;31mAttributeError\u001b[0m: 'str' object has no attribute 'fun'"
     ]
    }
   ],
   "source": [
    "if __name__ == '__main__':\n",
    "    s = input()\n",
    "    funcs = ['isalnum()','isalpha()','isdigit()','islower()','isupper()']\n",
    "    for fun in funcs:\n",
    "        print(s.fun)\n",
    "        "
   ]
  },
  {
   "cell_type": "code",
   "execution_count": 205,
   "metadata": {},
   "outputs": [
    {
     "name": "stdout",
     "output_type": "stream",
     "text": [
      "9\n",
      "        #\n",
      "       ##\n",
      "      ###\n",
      "     ####\n",
      "    #####\n",
      "   ######\n",
      "  #######\n",
      " ########\n",
      "#########\n"
     ]
    }
   ],
   "source": [
    "n=int(input())\n",
    "for r in range(n):\n",
    "    for c in range(n):\n",
    "        if c<n-1-r:\n",
    "            print(' ',end='')\n",
    "        else:\n",
    "            print('#',end='')\n",
    "    print('')"
   ]
  },
  {
   "cell_type": "code",
   "execution_count": 217,
   "metadata": {},
   "outputs": [
    {
     "name": "stdout",
     "output_type": "stream",
     "text": [
      "3\n"
     ]
    }
   ],
   "source": [
    "arr=[5,5,3,2,5]\n",
    "for i in range(len(arr)-1):\n",
    "    if arr[i]>arr[i+1]:\n",
    "        arr[i],arr[i+1]=arr[i+1],arr[i]\n",
    "counter=1\n",
    "for i in range(len(arr)-1):\n",
    "    if arr[i]==arr[-1]:\n",
    "        counter+=1\n",
    "print(counter)"
   ]
  },
  {
   "cell_type": "code",
   "execution_count": 227,
   "metadata": {},
   "outputs": [
    {
     "name": "stdout",
     "output_type": "stream",
     "text": [
      "16:59:59\n"
     ]
    }
   ],
   "source": [
    "s='04:59:59PM'\n",
    "l=list(s.split(':'))\n",
    "if l[-1][-2]=='A':\n",
    "    if l[0]=='12':\n",
    "        l[0]='00'\n",
    "elif l[-1][-2]=='P' and l[0]!='12':\n",
    "    l[0]=str(int(l[0])+12)\n",
    "l[2]=l[2][:2]\n",
    "print(':'.join(l))"
   ]
  },
  {
   "cell_type": "code",
   "execution_count": 256,
   "metadata": {},
   "outputs": [
    {
     "ename": "TypeError",
     "evalue": "__init__() should return None, not 'tuple'",
     "output_type": "error",
     "traceback": [
      "\u001b[1;31m---------------------------------------------------------------------------\u001b[0m",
      "\u001b[1;31mTypeError\u001b[0m                                 Traceback (most recent call last)",
      "\u001b[1;32m<ipython-input-256-a24de6b87a89>\u001b[0m in \u001b[0;36m<module>\u001b[1;34m\u001b[0m\n\u001b[0;32m     16\u001b[0m         \u001b[0msalary\u001b[0m\u001b[1;33m=\u001b[0m\u001b[0mint\u001b[0m\u001b[1;33m(\u001b[0m\u001b[0msalary\u001b[0m\u001b[1;33m)\u001b[0m\u001b[1;33m\u001b[0m\u001b[1;33m\u001b[0m\u001b[0m\n\u001b[0;32m     17\u001b[0m         \u001b[1;32mreturn\u001b[0m \u001b[0mcls\u001b[0m\u001b[1;33m(\u001b[0m\u001b[0mfname\u001b[0m\u001b[1;33m,\u001b[0m\u001b[0mlname\u001b[0m\u001b[1;33m,\u001b[0m\u001b[0msalary\u001b[0m\u001b[1;33m)\u001b[0m\u001b[1;33m\u001b[0m\u001b[1;33m\u001b[0m\u001b[0m\n\u001b[1;32m---> 18\u001b[1;33m \u001b[0mharry\u001b[0m\u001b[1;33m=\u001b[0m\u001b[0memployee\u001b[0m\u001b[1;33m(\u001b[0m\u001b[1;34m'Harry'\u001b[0m\u001b[1;33m,\u001b[0m\u001b[1;34m'Jindal'\u001b[0m\u001b[1;33m,\u001b[0m\u001b[1;36m44000\u001b[0m\u001b[1;33m)\u001b[0m\u001b[1;33m\u001b[0m\u001b[1;33m\u001b[0m\u001b[0m\n\u001b[0m\u001b[0;32m     19\u001b[0m \u001b[1;31m#rahul=employee('Rahul','Singh',44000)\u001b[0m\u001b[1;33m\u001b[0m\u001b[1;33m\u001b[0m\u001b[1;33m\u001b[0m\u001b[0m\n\u001b[0;32m     20\u001b[0m \u001b[1;31m#raj=employee.from_string('Raj Singh 55000')\u001b[0m\u001b[1;33m\u001b[0m\u001b[1;33m\u001b[0m\u001b[1;33m\u001b[0m\u001b[0m\n",
      "\u001b[1;31mTypeError\u001b[0m: __init__() should return None, not 'tuple'"
     ]
    }
   ],
   "source": [
    "class employee:\n",
    "    raise_salary=0.9\n",
    "    def __init__(self,fname,lname,salary):\n",
    "        self.fname=fname\n",
    "        self.lname=lname\n",
    "        self.salary=salary\n",
    "    def increament(self):\n",
    "        self.salary=int(self.salary+(self.salary*employee.raise_salary))\n",
    "    @classmethod\n",
    "    def change_raise_salary(cls,amount):\n",
    "        cls.raise_salary=amount\n",
    "    @classmethod\n",
    "    def from_string(cls,string):\n",
    "        fname,lname,salary=string.split(' ')\n",
    "        salary=int(salary)\n",
    "        return cls(fname,lname,salary)\n",
    "harry=employee('Harry','Jindal',44000)\n",
    "#rahul=employee('Rahul','Singh',44000)\n",
    "#raj=employee.from_string('Raj Singh 55000')\n",
    "#print(raj.fname,raj.lname,raj.salary)\n",
    "#print(harry.salary)\n",
    "#harry.increament()\n",
    "#print(rahul.salary)\n",
    "#print(harry.salary)\n",
    "#employee.change_raise_salary(1.5)\n",
    "#rahul.increament()\n",
    "#print(rahul.salary)\n"
   ]
  },
  {
   "cell_type": "code",
   "execution_count": 254,
   "metadata": {},
   "outputs": [
    {
     "data": {
      "text/plain": [
       "'DoGS RuNS '"
      ]
     },
     "execution_count": 254,
     "metadata": {},
     "output_type": "execute_result"
    }
   ],
   "source": [
    "def reverse_words_order_and_swap_cases(sentence):\n",
    "    # Write your code here\n",
    "    l=sentence.split(' ')\n",
    "    s=''\n",
    "    i=-1\n",
    "    while i>=0-len(l):\n",
    "        for j in range(len(l[i])):\n",
    "            if l[i][j].islower():\n",
    "                #print(l[i][j].upper(),end='')\n",
    "                s+=l[i][j].upper()\n",
    "            else:\n",
    "                s+=l[i][j].lower()\n",
    "        s+=' '\n",
    "        i-=1\n",
    "    return s\n",
    "res = reverse_words_order_and_swap_cases('rUns dOgs')\n",
    "res"
   ]
  },
  {
   "cell_type": "code",
   "execution_count": 258,
   "metadata": {},
   "outputs": [
    {
     "data": {
      "text/plain": [
       "[1, 2, 3, 4, 10, 5]"
      ]
     },
     "execution_count": 258,
     "metadata": {},
     "output_type": "execute_result"
    }
   ],
   "source": [
    "l=[1,2,3,4,5]\n",
    "l.insert(-1,10)\n",
    "l"
   ]
  },
  {
   "cell_type": "code",
   "execution_count": 263,
   "metadata": {},
   "outputs": [
    {
     "name": "stdout",
     "output_type": "stream",
     "text": [
      "3\n",
      "raju 889\n",
      "riju 4478569\n",
      "poap 88466\n",
      "raju\n",
      "raju=889\n",
      "rijo\n",
      "Not Found\n",
      "riju\n",
      "riju=4478569\n",
      "poap\n",
      "poap=88466\n",
      "\n"
     ]
    }
   ],
   "source": [
    "phone_book={}\n",
    "for _ in range(int(input())):\n",
    "    name,number=input().split()\n",
    "    phone_book[name]=number\n",
    "while 1:\n",
    "    try:\n",
    "        name=input()\n",
    "        if name in phone_book:\n",
    "            print('{}={}'.format(name,phone_book[name]))\n",
    "        else:\n",
    "            print('Not Found')\n",
    "    except EOFError:\n",
    "        break"
   ]
  },
  {
   "cell_type": "code",
   "execution_count": 262,
   "metadata": {},
   "outputs": [
    {
     "name": "stdout",
     "output_type": "stream",
     "text": [
      "3\n",
      "raju 9965\n",
      "ria 5569\n",
      "cdas 89556\n",
      "raju\n",
      "raju=9965\n",
      "lo\n",
      "Not Found\n",
      "cdas\n",
      "cdas=89556\n",
      "\n",
      "Not Found\n"
     ]
    },
    {
     "ename": "KeyboardInterrupt",
     "evalue": "Interrupted by user",
     "output_type": "error",
     "traceback": [
      "\u001b[1;31m---------------------------------------------------------------------------\u001b[0m",
      "\u001b[1;31mKeyboardInterrupt\u001b[0m                         Traceback (most recent call last)",
      "\u001b[1;32m<ipython-input-262-29e77347048e>\u001b[0m in \u001b[0;36m<module>\u001b[1;34m\u001b[0m\n\u001b[0;32m      6\u001b[0m \u001b[1;32mwhile\u001b[0m \u001b[1;36m1\u001b[0m\u001b[1;33m:\u001b[0m\u001b[1;33m\u001b[0m\u001b[1;33m\u001b[0m\u001b[0m\n\u001b[0;32m      7\u001b[0m     \u001b[1;32mtry\u001b[0m\u001b[1;33m:\u001b[0m\u001b[1;33m\u001b[0m\u001b[1;33m\u001b[0m\u001b[0m\n\u001b[1;32m----> 8\u001b[1;33m         \u001b[0mname\u001b[0m\u001b[1;33m=\u001b[0m\u001b[0minput\u001b[0m\u001b[1;33m(\u001b[0m\u001b[1;33m)\u001b[0m\u001b[1;33m\u001b[0m\u001b[1;33m\u001b[0m\u001b[0m\n\u001b[0m\u001b[0;32m      9\u001b[0m         \u001b[1;32mif\u001b[0m \u001b[0mname\u001b[0m \u001b[1;32min\u001b[0m \u001b[0mphone_book\u001b[0m\u001b[1;33m:\u001b[0m\u001b[1;33m\u001b[0m\u001b[1;33m\u001b[0m\u001b[0m\n\u001b[0;32m     10\u001b[0m             \u001b[0mprint\u001b[0m\u001b[1;33m(\u001b[0m\u001b[1;34m'{}={}'\u001b[0m\u001b[1;33m.\u001b[0m\u001b[0mformat\u001b[0m\u001b[1;33m(\u001b[0m\u001b[0mname\u001b[0m\u001b[1;33m,\u001b[0m\u001b[0mphone_book\u001b[0m\u001b[1;33m[\u001b[0m\u001b[0mname\u001b[0m\u001b[1;33m]\u001b[0m\u001b[1;33m)\u001b[0m\u001b[1;33m)\u001b[0m\u001b[1;33m\u001b[0m\u001b[1;33m\u001b[0m\u001b[0m\n",
      "\u001b[1;32m~\\anaconda3\\envs\\env_Priyank\\lib\\site-packages\\ipykernel\\kernelbase.py\u001b[0m in \u001b[0;36mraw_input\u001b[1;34m(self, prompt)\u001b[0m\n\u001b[0;32m    861\u001b[0m             \u001b[0mself\u001b[0m\u001b[1;33m.\u001b[0m\u001b[0m_parent_ident\u001b[0m\u001b[1;33m,\u001b[0m\u001b[1;33m\u001b[0m\u001b[1;33m\u001b[0m\u001b[0m\n\u001b[0;32m    862\u001b[0m             \u001b[0mself\u001b[0m\u001b[1;33m.\u001b[0m\u001b[0m_parent_header\u001b[0m\u001b[1;33m,\u001b[0m\u001b[1;33m\u001b[0m\u001b[1;33m\u001b[0m\u001b[0m\n\u001b[1;32m--> 863\u001b[1;33m             \u001b[0mpassword\u001b[0m\u001b[1;33m=\u001b[0m\u001b[1;32mFalse\u001b[0m\u001b[1;33m,\u001b[0m\u001b[1;33m\u001b[0m\u001b[1;33m\u001b[0m\u001b[0m\n\u001b[0m\u001b[0;32m    864\u001b[0m         )\n\u001b[0;32m    865\u001b[0m \u001b[1;33m\u001b[0m\u001b[0m\n",
      "\u001b[1;32m~\\anaconda3\\envs\\env_Priyank\\lib\\site-packages\\ipykernel\\kernelbase.py\u001b[0m in \u001b[0;36m_input_request\u001b[1;34m(self, prompt, ident, parent, password)\u001b[0m\n\u001b[0;32m    902\u001b[0m             \u001b[1;32mexcept\u001b[0m \u001b[0mKeyboardInterrupt\u001b[0m\u001b[1;33m:\u001b[0m\u001b[1;33m\u001b[0m\u001b[1;33m\u001b[0m\u001b[0m\n\u001b[0;32m    903\u001b[0m                 \u001b[1;31m# re-raise KeyboardInterrupt, to truncate traceback\u001b[0m\u001b[1;33m\u001b[0m\u001b[1;33m\u001b[0m\u001b[1;33m\u001b[0m\u001b[0m\n\u001b[1;32m--> 904\u001b[1;33m                 \u001b[1;32mraise\u001b[0m \u001b[0mKeyboardInterrupt\u001b[0m\u001b[1;33m(\u001b[0m\u001b[1;34m\"Interrupted by user\"\u001b[0m\u001b[1;33m)\u001b[0m \u001b[1;32mfrom\u001b[0m \u001b[1;32mNone\u001b[0m\u001b[1;33m\u001b[0m\u001b[1;33m\u001b[0m\u001b[0m\n\u001b[0m\u001b[0;32m    905\u001b[0m             \u001b[1;32mexcept\u001b[0m \u001b[0mException\u001b[0m \u001b[1;32mas\u001b[0m \u001b[0me\u001b[0m\u001b[1;33m:\u001b[0m\u001b[1;33m\u001b[0m\u001b[1;33m\u001b[0m\u001b[0m\n\u001b[0;32m    906\u001b[0m                 \u001b[0mself\u001b[0m\u001b[1;33m.\u001b[0m\u001b[0mlog\u001b[0m\u001b[1;33m.\u001b[0m\u001b[0mwarning\u001b[0m\u001b[1;33m(\u001b[0m\u001b[1;34m\"Invalid Message:\"\u001b[0m\u001b[1;33m,\u001b[0m \u001b[0mexc_info\u001b[0m\u001b[1;33m=\u001b[0m\u001b[1;32mTrue\u001b[0m\u001b[1;33m)\u001b[0m\u001b[1;33m\u001b[0m\u001b[1;33m\u001b[0m\u001b[0m\n",
      "\u001b[1;31mKeyboardInterrupt\u001b[0m: Interrupted by user"
     ]
    }
   ],
   "source": [
    "n= int(input())\n",
    "dct={}\n",
    "for i in range(n):\n",
    "    info=input().split()\n",
    "    dct[info[0]]=info[1]\n",
    "\n",
    "while 1:\n",
    "    try:\n",
    "        query=input().lower()\n",
    "        if query in dct:\n",
    "            print(query+'='+dct[query])\n",
    "        else:\n",
    "            print('Not found')\n",
    "    except EOFError:\n",
    "        break"
   ]
  },
  {
   "cell_type": "code",
   "execution_count": 268,
   "metadata": {},
   "outputs": [
    {
     "name": "stdout",
     "output_type": "stream",
     "text": [
      "3628800\n"
     ]
    }
   ],
   "source": [
    "def factorial(n):\n",
    "    if n==0:\n",
    "        return 1\n",
    "    return n*factorial(n-1)\n",
    "print(factorial(10))"
   ]
  },
  {
   "cell_type": "code",
   "execution_count": 7,
   "metadata": {},
   "outputs": [
    {
     "name": "stdout",
     "output_type": "stream",
     "text": [
      "4\n",
      "73\n",
      "75\n",
      "67\n",
      "67\n",
      "38\n",
      "38\n",
      "33\n",
      "33\n"
     ]
    }
   ],
   "source": [
    "for _ in range(int(input())):\n",
    "    n=int(input())\n",
    "    if n<40:\n",
    "        print(n)\n",
    "    else:\n",
    "        q=n//5\n",
    "        #print((q+1)*5)\n",
    "        if ((q+1)*5)-n<3:\n",
    "            print((q+1)*5) \n",
    "        else:\n",
    "            print(n)\n",
    "\n",
    "     "
   ]
  },
  {
   "cell_type": "code",
   "execution_count": 8,
   "metadata": {},
   "outputs": [
    {
     "data": {
      "text/plain": [
       "[75, 67, 38, 33]"
      ]
     },
     "execution_count": 8,
     "metadata": {},
     "output_type": "execute_result"
    }
   ],
   "source": [
    "def gradingStudents(grades):\n",
    "    # Write your code here\n",
    "    res=[]\n",
    "    for n in grades:\n",
    "        if n<40:\n",
    "            res.append(n)\n",
    "        else:\n",
    "            q=n//5\n",
    "            #print((q+1)*5)\n",
    "            if ((q+1)*5)-n<3:\n",
    "                res.append((q+1)*5) \n",
    "            else:\n",
    "                res.append(n)\n",
    "    return res\n",
    "grades=[73,67,38,33]\n",
    "res=gradingStudents(grades)\n",
    "res"
   ]
  },
  {
   "cell_type": "code",
   "execution_count": 8,
   "metadata": {},
   "outputs": [
    {
     "name": "stdout",
     "output_type": "stream",
     "text": [
      "10110 2\n"
     ]
    }
   ],
   "source": [
    "def binary(n):\n",
    "    count=m=0\n",
    "    s=''\n",
    "    while n>=0.5:\n",
    "        l=int(n)\n",
    "        r=l%2\n",
    "        if r==1:\n",
    "            count+=1\n",
    "        elif r==0:\n",
    "            m=max(m,count)\n",
    "            count=0\n",
    "        n=n/2\n",
    "    print(s)"
   ]
  },
  {
   "cell_type": "code",
   "execution_count": null,
   "metadata": {},
   "outputs": [],
   "source": []
  }
 ],
 "metadata": {
  "kernelspec": {
   "display_name": "Python 3",
   "language": "python",
   "name": "python3"
  },
  "language_info": {
   "codemirror_mode": {
    "name": "ipython",
    "version": 3
   },
   "file_extension": ".py",
   "mimetype": "text/x-python",
   "name": "python",
   "nbconvert_exporter": "python",
   "pygments_lexer": "ipython3",
   "version": "3.7.9"
  }
 },
 "nbformat": 4,
 "nbformat_minor": 4
}
